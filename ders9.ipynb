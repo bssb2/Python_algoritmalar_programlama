{
  "nbformat": 4,
  "nbformat_minor": 0,
  "metadata": {
    "colab": {
      "provenance": []
    },
    "kernelspec": {
      "name": "python3",
      "display_name": "Python 3"
    },
    "language_info": {
      "name": "python"
    }
  },
  "cells": [
    {
      "cell_type": "code",
      "source": [
        "print(\"Merhaba, Python Veri Yapıları ve Algoritmalar / Ders 9\")"
      ],
      "metadata": {
        "colab": {
          "base_uri": "https://localhost:8080/"
        },
        "id": "w1_1YKIz3FSr",
        "outputId": "06f8830e-821e-461a-ca89-b5b739090b18"
      },
      "execution_count": null,
      "outputs": [
        {
          "output_type": "stream",
          "name": "stdout",
          "text": [
            "Merhaba, Python Veri Yapıları ve Algoritmalar / Ders 9\n"
          ]
        }
      ]
    },
    {
      "cell_type": "code",
      "source": [
        "import sys  # import python programlama dilinde yazılıma kütüphane eklemeye yarayan bir kod blogudur.\n",
        "print(sys.version)"
      ],
      "metadata": {
        "colab": {
          "base_uri": "https://localhost:8080/"
        },
        "id": "NBs-ncrJ3HI3",
        "outputId": "11573174-bf12-427f-927f-84ae53e033a7"
      },
      "execution_count": null,
      "outputs": [
        {
          "output_type": "stream",
          "name": "stdout",
          "text": [
            "3.11.12 (main, Apr  9 2025, 08:55:54) [GCC 11.4.0]\n"
          ]
        }
      ]
    },
    {
      "cell_type": "code",
      "source": [
        "from google.colab import drive # google colab - drive bağlantısı\n",
        "\n",
        "drive.mount('/content/drive')"
      ],
      "metadata": {
        "colab": {
          "base_uri": "https://localhost:8080/"
        },
        "id": "OTJ3-7SE3Ll1",
        "outputId": "aafb5d37-8d03-47de-d0aa-b8eca70ddddb"
      },
      "execution_count": null,
      "outputs": [
        {
          "output_type": "stream",
          "name": "stdout",
          "text": [
            "Mounted at /content/drive\n"
          ]
        }
      ]
    },
    {
      "cell_type": "code",
      "source": [
        "import os\n",
        "\n",
        "os.chdir('/content/drive/My Drive/ALGORITMALAR_MYO')\n",
        "\n",
        "!pwd"
      ],
      "metadata": {
        "colab": {
          "base_uri": "https://localhost:8080/"
        },
        "id": "oNUg5Oc13QFA",
        "outputId": "deda90a1-33ef-4b56-b1fc-d9d8dad038ac"
      },
      "execution_count": null,
      "outputs": [
        {
          "output_type": "stream",
          "name": "stdout",
          "text": [
            "/content/drive/My Drive/ALGORITMALAR_MYO\n"
          ]
        }
      ]
    },
    {
      "cell_type": "code",
      "source": [],
      "metadata": {
        "id": "LJ2aJZZo3XW7"
      },
      "execution_count": null,
      "outputs": []
    },
    {
      "cell_type": "markdown",
      "source": [
        "Ders 9. Python Programlama Dili Üzerinde Dizi, Liste, Demet, Sözlük Yapılarının Kullanımı ve Örnekleri\n",
        "Ders 9 Giriş:\n",
        "\n",
        "Veri yapıları \"Python\" programlama dili üzerinde kullanırken şunu bu üniteye gelene kadar kavramamız gerekmektedir. Veri yapıları verileri düzenlemek ve yönetmek için kullanılmaktadır.\n",
        "\n",
        "9.1. Python Programlama Dili Üzerinde Liste - Dizi Yapısı ve İşlemleri\n",
        "\n",
        "Listeler, birden fazla veri tipini içinde barındırabilen, sıralı ve değiştirilebilir veri yapılarıdır. Köşeli parantezler [ ] kullanılarak tanımlanmaktadırlar.\n",
        "\n",
        "9.2. Python Programlama Dili Üzerinde Demet Yapısı ve İşlemleri\n",
        "\n",
        "Demetler, sıralı ama değiştirilemez (immutable) veri yapılarıdır. Parantez ( ) kullanılarak tanımlanır. Sabit veriler için ideal bir veri yapısıdır.\n",
        "\n",
        "9.3. Python Programlama Dili Üzerinde Sözlük Yapısı ve İşlemleri\n",
        "\n",
        "Sözlükler, anahtar-değer (key-value) çiftleri olarak tanımlanan, sırasız veri yapılarıdır. Süslü parantez { } ile tanımlanır. Dinamik olarak veri eklenebilir, değiştirilebilir, anahtarlar benzersizdir ve değerler tekrar edebilir.\n",
        "\n",
        "9.4. Liste, Demet ve Sözlük Veri Yapılarının Karşılaştırılması"
      ],
      "metadata": {
        "id": "GOnqrnkG3Za5"
      }
    },
    {
      "cell_type": "code",
      "source": [
        "meyveler = [\"Elma\", \"Armut\", \"Muz\"] # Liste (List) veri yapısı örneği\n",
        "print(meyveler[0])  # İlk elemana erişim"
      ],
      "metadata": {
        "colab": {
          "base_uri": "https://localhost:8080/"
        },
        "id": "dtmfM9hR3ag8",
        "outputId": "7eebbed4-1da2-4bef-9ca8-5db7a94df32e"
      },
      "execution_count": null,
      "outputs": [
        {
          "output_type": "stream",
          "name": "stdout",
          "text": [
            "Elma\n"
          ]
        }
      ]
    },
    {
      "cell_type": "code",
      "source": [
        "# List veri tipi örneği - 1) Bir listenin elemanlarının toplam, maksimum ve minimum değerlerini bulma\n",
        "sayilar = [10, 20, 30, 40, 50]\n",
        "\n",
        "# Toplam hesaplama\n",
        "toplam = sum(sayilar)\n",
        "print(\"Toplam:\", toplam)\n",
        "\n",
        "# Maksimum ve minimum değer bulma\n",
        "print(\"En büyük sayı:\", max(sayilar))\n",
        "print(\"En küçük sayı:\", min(sayilar))"
      ],
      "metadata": {
        "colab": {
          "base_uri": "https://localhost:8080/"
        },
        "id": "jCutDV3w3667",
        "outputId": "7ba104af-a189-48b3-abbc-67e4bbd4e0b2"
      },
      "execution_count": null,
      "outputs": [
        {
          "output_type": "stream",
          "name": "stdout",
          "text": [
            "Toplam: 150\n",
            "En büyük sayı: 50\n",
            "En küçük sayı: 10\n"
          ]
        }
      ]
    },
    {
      "cell_type": "code",
      "source": [
        "# List veri tipi örneği - 2) For ve if ile çift sayıları bulma\n",
        "liste = [2, 3, 5, 6, 8, 11, 14]\n",
        "\n",
        "numaralistesi = [] # Çift sayıları tutmak için boş liste\n",
        "\n",
        "for i in liste:\n",
        "    if i % 2 == 0:\n",
        "        numaralistesi.append(i)\n",
        "\n",
        "print(\"Listede bulunan çift sayılar:\", numaralistesi)\n",
        "print(\"Adet çift sayı\", len(numaralistesi), \"bulunmaktadır !!!\")"
      ],
      "metadata": {
        "colab": {
          "base_uri": "https://localhost:8080/"
        },
        "id": "bqWQeiqS3-JO",
        "outputId": "f33d4111-7522-4491-aff3-5de83a283dd9"
      },
      "execution_count": null,
      "outputs": [
        {
          "output_type": "stream",
          "name": "stdout",
          "text": [
            "Listede bulunan çift sayılar: [2, 6, 8, 14]\n",
            "Adet çift sayı 4 bulunmaktadır !!!\n"
          ]
        }
      ]
    },
    {
      "cell_type": "code",
      "source": [
        "# List veri tipi örneği - 3) Malzeme Listesi\n",
        "\n",
        "liste = [\"elma\", \"muz\", \"çilek\", \"su\", \"cikolata\"] # Malzeme Listesi\n",
        "\n",
        "aranacak_urun = \"muz\" # Aranacak eleman\n",
        "\n",
        "if aranacak_urun in liste:\n",
        "    print(aranacak_urun, \"liste içerisinde mevcut.\")\n",
        "else:\n",
        "    print(aranacak_urun, \"liste içerisinde mevcut değil.\")"
      ],
      "metadata": {
        "id": "gPaxz_WP4Gxh"
      },
      "execution_count": null,
      "outputs": []
    },
    {
      "cell_type": "code",
      "source": [
        "# List veri tipi örneği - 4) Malzeme Listesi\n",
        "\n",
        "liste = [\"elma\", \"muz\", \"çilek\", \"su\", \"cikolata\"]\n",
        "\n",
        "aranacak_urun = input(\"Aranacak Ürün Nedir? \") # Aranacak eleman\n",
        "\n",
        "if aranacak_urun in liste:\n",
        "    print(aranacak_urun, \"liste içerisinde mevcut.\")\n",
        "else:\n",
        "    print(aranacak_urun, \"liste içerisinde mevcut değil.\")"
      ],
      "metadata": {
        "colab": {
          "base_uri": "https://localhost:8080/"
        },
        "id": "3_erYpUT4Jtb",
        "outputId": "1850e641-3057-4489-8537-abbdc1032526"
      },
      "execution_count": null,
      "outputs": [
        {
          "output_type": "stream",
          "name": "stdout",
          "text": [
            "Aranacak Ürün Nedir? elma\n",
            "elma liste içerisinde mevcut.\n"
          ]
        }
      ]
    },
    {
      "cell_type": "code",
      "source": [
        "renkler = (\"Kırmızı\", \"Mavi\", \"Yeşil\") # Demet (Tuple) veri yapısı\n",
        "print(renkler[1]) # 'Mavi' çıktısı verir"
      ],
      "metadata": {
        "colab": {
          "base_uri": "https://localhost:8080/"
        },
        "id": "b5DoNRUx4Qhs",
        "outputId": "8c25b2dd-b52c-4883-f15f-b126e8edc993"
      },
      "execution_count": null,
      "outputs": [
        {
          "output_type": "stream",
          "name": "stdout",
          "text": [
            "Mavi\n"
          ]
        }
      ]
    },
    {
      "cell_type": "code",
      "source": [
        "# Demet veri tipi örneği - 1) Haftanın günlerini bir demet içinde tanımlama\n",
        "hafta_gunleri = (\"Pazartesi\", \"Salı\", \"Çarşamba\", \"Perşembe\", \"Cuma\", \"Cumartesi\", \"Pazar\")\n",
        "\n",
        "# Elemanları yazdırma\n",
        "print(\"Haftanın günleri:\")\n",
        "for gun in hafta_gunleri:\n",
        "    print(gun)"
      ],
      "metadata": {
        "colab": {
          "base_uri": "https://localhost:8080/"
        },
        "id": "4lbzI92W4SNF",
        "outputId": "7696720c-6f58-4f77-e573-150861fb13f8"
      },
      "execution_count": null,
      "outputs": [
        {
          "output_type": "stream",
          "name": "stdout",
          "text": [
            "Haftanın günleri:\n",
            "Pazartesi\n",
            "Salı\n",
            "Çarşamba\n",
            "Perşembe\n",
            "Cuma\n",
            "Cumartesi\n",
            "Pazar\n"
          ]
        }
      ]
    },
    {
      "cell_type": "code",
      "source": [
        "# Demet veri tipi örneği - 2) Öğrencilerin adları ve notları bir demette saklanıyor\n",
        "ogrenciler = (\n",
        "    (\"Ali\", (85, 90, 78)),\n",
        "    (\"Ayşe\", (88, 76, 92)),\n",
        "    (\"Mehmet\", (70, 85, 80)),\n",
        "    (\"Zeynep\", (95, 90, 93))\n",
        ")\n",
        "\n",
        "# Her öğrencinin ortalama notunu hesaplama\n",
        "for ogrenci in ogrenciler:\n",
        "    isim = ogrenci[0]\n",
        "    notlar = ogrenci[1]\n",
        "    ortalama = sum(notlar) / len(notlar)\n",
        "    print(isim, \" adlı öğrencinin ortalaması: \", ortalama)"
      ],
      "metadata": {
        "colab": {
          "base_uri": "https://localhost:8080/"
        },
        "id": "0p9NJdRm4UXr",
        "outputId": "f89a6191-6bc4-4dbe-ebd3-40ca118db8f2"
      },
      "execution_count": null,
      "outputs": [
        {
          "output_type": "stream",
          "name": "stdout",
          "text": [
            "Ali  adlı öğrencinin ortalaması:  84.33333333333333\n",
            "Ayşe  adlı öğrencinin ortalaması:  85.33333333333333\n",
            "Mehmet  adlı öğrencinin ortalaması:  78.33333333333333\n",
            "Zeynep  adlı öğrencinin ortalaması:  92.66666666666667\n"
          ]
        }
      ]
    },
    {
      "cell_type": "code",
      "source": [
        "ogrenci = {\"ad\": \"Ali\", \"yas\": 30} # Sözlük (Dictionary) veri yapısı\n",
        "ogrenci[\"okul\"] = \"İGÜ\"     # Yeni anahtar ekleme\n",
        "print(ogrenci[\"ad\"])   # 'Ali' çıktısı verir\n",
        "print(ogrenci)"
      ],
      "metadata": {
        "id": "Mjwhetww4WGN",
        "outputId": "5dfaff37-22fa-41af-a912-ae7768342e22",
        "colab": {
          "base_uri": "https://localhost:8080/"
        }
      },
      "execution_count": null,
      "outputs": [
        {
          "output_type": "stream",
          "name": "stdout",
          "text": [
            "Ali\n",
            "{'ad': 'Ali', 'yas': 30, 'okul': 'İGÜ'}\n"
          ]
        }
      ]
    },
    {
      "cell_type": "code",
      "source": [
        "# Sözlük veri tipi örneği - 1 Öğrenci Bilgileri\n",
        "\n",
        "ogrenci = {\n",
        "    \"isim\": \"Ali\",\n",
        "    \"yaş\": 25,\n",
        "    \"ders\": \"Python Programlama\",\n",
        "    \"not\": 90\n",
        "}\n",
        "\n",
        "# Bilgilerin yazdırılması\n",
        "print(\"Öğrenci Bilgileri:\")\n",
        "for anahtar, değer in ogrenci.items():\n",
        "    print(anahtar, değer)"
      ],
      "metadata": {
        "id": "Ts9yuMcr4Xzj",
        "outputId": "8490b4a5-eeea-4c2d-f29a-eddefaabc6a2",
        "colab": {
          "base_uri": "https://localhost:8080/"
        }
      },
      "execution_count": null,
      "outputs": [
        {
          "output_type": "stream",
          "name": "stdout",
          "text": [
            "Öğrenci Bilgileri:\n",
            "isim Ali\n",
            "yaş 25\n",
            "ders Python Programlama\n",
            "not 90\n"
          ]
        }
      ]
    },
    {
      "cell_type": "code",
      "source": [
        "# Sözlük veri tipi örneği - 2 Ürünler ve fiyatları\n",
        "sepet = {\"Elma\": 3, \"Muz\": 2, \"Portakal\": 4}\n",
        "\n",
        "# Toplam tutar hesaplama\n",
        "toplam_tutar = sum(sepet.values())\n",
        "print(\"Toplam Tutar:\", toplam_tutar, \"TL\")\n",
        "\n",
        "# Yeni ürün ekleme\n",
        "sepet[\"Kiraz\"] = 6\n",
        "print(\"Güncellenmiş Sepet:\", sepet)"
      ],
      "metadata": {
        "id": "iD2VQsLO4bLv",
        "outputId": "70facf82-e9c1-4d9f-d309-91d2badf3434",
        "colab": {
          "base_uri": "https://localhost:8080/"
        }
      },
      "execution_count": null,
      "outputs": [
        {
          "output_type": "stream",
          "name": "stdout",
          "text": [
            "Toplam Tutar: 9 TL\n",
            "Güncellenmiş Sepet: {'Elma': 3, 'Muz': 2, 'Portakal': 4, 'Kiraz': 6}\n"
          ]
        }
      ]
    }
  ]
}