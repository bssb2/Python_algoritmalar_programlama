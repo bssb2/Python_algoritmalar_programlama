{
  "nbformat": 4,
  "nbformat_minor": 0,
  "metadata": {
    "colab": {
      "provenance": []
    },
    "kernelspec": {
      "name": "python3",
      "display_name": "Python 3"
    },
    "language_info": {
      "name": "python"
    }
  },
  "cells": [
    {
      "cell_type": "code",
      "source": [
        "print(\"Merhaba, Python Veri Yapıları ve Algoritmalar / Ders 11\")"
      ],
      "metadata": {
        "colab": {
          "base_uri": "https://localhost:8080/"
        },
        "id": "vJGeUhLYAT9V",
        "outputId": "05068c17-d393-4771-f928-c5f05a412205"
      },
      "execution_count": 1,
      "outputs": [
        {
          "output_type": "stream",
          "name": "stdout",
          "text": [
            "Merhaba, Python Veri Yapıları ve Algoritmalar / Ders 11\n"
          ]
        }
      ]
    },
    {
      "cell_type": "code",
      "source": [
        "import sys  # import python programlama dilinde yazılıma kütüphane eklemeye yarayan bir kod blogudur.\n",
        "print(sys.version)"
      ],
      "metadata": {
        "colab": {
          "base_uri": "https://localhost:8080/"
        },
        "id": "8YAVprvAAaXH",
        "outputId": "04051705-e156-48c4-8e08-97bfbee0dbaa"
      },
      "execution_count": 2,
      "outputs": [
        {
          "output_type": "stream",
          "name": "stdout",
          "text": [
            "3.11.12 (main, Apr  9 2025, 08:55:54) [GCC 11.4.0]\n"
          ]
        }
      ]
    },
    {
      "cell_type": "code",
      "source": [
        "from google.colab import drive # google colab - drive bağlantısı\n",
        "\n",
        "drive.mount('/content/drive')"
      ],
      "metadata": {
        "colab": {
          "base_uri": "https://localhost:8080/"
        },
        "id": "ExqdQuTDAaoB",
        "outputId": "2f8215f0-9689-457f-f06a-6e800b996586"
      },
      "execution_count": 4,
      "outputs": [
        {
          "output_type": "stream",
          "name": "stdout",
          "text": [
            "Mounted at /content/drive\n"
          ]
        }
      ]
    },
    {
      "cell_type": "code",
      "source": [
        "import os\n",
        "\n",
        "os.chdir('/content/drive/My Drive/ALGORITMALAR_MYO')\n",
        "\n",
        "!pwd # bize kodun çıktısını dosya yolu olarak veren kod blogudur."
      ],
      "metadata": {
        "colab": {
          "base_uri": "https://localhost:8080/"
        },
        "id": "Bc4buT_PAa3P",
        "outputId": "7738c421-e259-4f62-8760-52c52f56492c"
      },
      "execution_count": 7,
      "outputs": [
        {
          "output_type": "stream",
          "name": "stdout",
          "text": [
            "/content/drive/My Drive/ALGORITMALAR_MYO\n"
          ]
        }
      ]
    },
    {
      "cell_type": "markdown",
      "source": [
        "Python programlama dili üzerinde hali hazırda var olan aşağıdaki fonksiyonlar, veri işleme, matematiksel işlemler, veri türü dönüşümleri gibi birden fazla farklı uygulama alanında kullanılabilir.\n",
        "\n",
        "\n",
        "Python Hazır Fonksiyonlar Listesi:\n",
        "\n",
        "abs(x)\tSayının mutlak değerini döndürür.\n",
        "\n",
        "round(x)\tSayıyı en yakın tam sayıya yuvarlar.\n",
        "\n",
        "max(degisken, *args)\tEn büyük değeri döndürür.\n",
        "\n",
        "min(degisken, *args)\tEn küçük değeri döndürür.\n",
        "\n",
        "pow(x, y)\tx’in y. kuvvetini hesaplar.\n",
        "\n",
        "int(x)\tVerilen değeri tam sayıya çevirir.\n",
        "\n",
        "float(x)\tVerilen değeri ondalıklı sayıya çevirir.\n",
        "\n",
        "str(x)\tVerilen değeri string’e çevirir.\n",
        "\n",
        "list(degisken)\tVerilen degiskeni list veri türüne çevirir.\n",
        "\n",
        "tuple(degisken)\tVerilen degiskeni tuple veri türüne çevirir.\n",
        "\n",
        "set(degisken)\tVerilen degisken nesneyi kümeye çevirir.\n",
        "\n",
        "sum(degisken)\tListedeki elemanların toplamını hesaplar.\n",
        "\n",
        "len(degisken)\tListedeki eleman sayısını döndürür.\n",
        "\n",
        "sorted(degisken, reverse=False)\tListeyi sıralar.\n",
        "\n",
        "upper()\tString’i büyük harfe çevirir.\n",
        "\n",
        "lower()\tString’i küçük harfe çevirir.\n",
        "\n",
        "title()\tString’deki kelimelerin ilk harfini büyük yapar.\n",
        "\n",
        "split()\tString’i belirli bir ayırıcıya göre böler.\n",
        "\n",
        "input(degisken)\tKullanıcıdan girdi alır.\n",
        "\n",
        "all(degisken)\tListedeki tüm elemanlar ‘True’ ise ‘True’ döndürür.\n",
        "\n",
        "any(degisken)\tListedeki en az bir eleman ‘True’ ise ‘True’ döndürür.\n",
        "\n",
        "enumerate(degisken)\tdegisken nesneye index numarası ekleyerek döner.\n",
        "\n",
        "zip(*degisken)\tVerilen degiskenleri birleştirerek tuple listesi döndürür.\n",
        "\n"
      ],
      "metadata": {
        "id": "WetfbGwEA7VW"
      }
    },
    {
      "cell_type": "code",
      "source": [
        "def matematiksel_fonksiyonlar():\n",
        "  print(\"Mutlak Değer İslemi: \", abs(-10))\n",
        "  print(\"Yuvarlama ismlemi: \", round(4.7))\n",
        "  print(\"Maksimum Değer: \", max(5, 10, 15))\n",
        "  print(\"Minimum Değer: \", min(5, 10, 15))\n",
        "  print(\"Üs Alma İşlemi: \", pow(2, 3))"
      ],
      "metadata": {
        "id": "6GhvYZhoA8Rg"
      },
      "execution_count": 8,
      "outputs": []
    },
    {
      "cell_type": "code",
      "source": [
        "matematiksel_fonksiyonlar()"
      ],
      "metadata": {
        "colab": {
          "base_uri": "https://localhost:8080/"
        },
        "id": "kDyy54-lBSCY",
        "outputId": "56e7590f-3c72-4d50-fb8e-b0311d50cc4f"
      },
      "execution_count": 9,
      "outputs": [
        {
          "output_type": "stream",
          "name": "stdout",
          "text": [
            "Mutlak Değer İslemi:  10\n",
            "Yuvarlama ismlemi:  5\n",
            "Maksimum Değer:  15\n",
            "Minimum Değer:  5\n",
            "Üs Alma İşlemi:  8\n"
          ]
        }
      ]
    },
    {
      "cell_type": "code",
      "source": [
        "def veri_turu_donusumleri():\n",
        "  print(\"Int veri dönüşümü: \", int(3.14))\n",
        "  print(\"Float veri dönüşümü: \", float(10))\n",
        "  print(\"String veri dönüşümü: \", str(123))\n",
        "  print(\"List veri dönüşümü: \", list(\"Python\"))\n",
        "  print(\"Tuple veri dönüşümü: \", tuple([\"P\", \"y\", \"t\", \"h\", \"o\", \"n\", \"3\"]))\n",
        "  print(\"Küme veri dönüşümü: \", set([1,2,3,4]))"
      ],
      "metadata": {
        "id": "ymQCRkjeBUIu"
      },
      "execution_count": 10,
      "outputs": []
    },
    {
      "cell_type": "code",
      "source": [
        "veri_turu_donusumleri()"
      ],
      "metadata": {
        "colab": {
          "base_uri": "https://localhost:8080/"
        },
        "id": "r--SBxM7BV8O",
        "outputId": "8a575d01-454a-4a74-e370-19739b75da78"
      },
      "execution_count": 11,
      "outputs": [
        {
          "output_type": "stream",
          "name": "stdout",
          "text": [
            "Int veri dönüşümü:  3\n",
            "Float veri dönüşümü:  10.0\n",
            "String veri dönüşümü:  123\n",
            "List veri dönüşümü:  ['P', 'y', 't', 'h', 'o', 'n']\n",
            "Tuple veri dönüşümü:  ('P', 'y', 't', 'h', 'o', 'n', '3')\n",
            "Küme veri dönüşümü:  {1, 2, 3, 4}\n"
          ]
        }
      ]
    },
    {
      "cell_type": "code",
      "source": [
        "def list_veri_ornegi():\n",
        "  liste = [40, 20, 30, 50, 10]\n",
        "  print(\"Listenin Toplam Degeri: \", sum(liste))\n",
        "  print(\"Liste eleman sayısı: \", len(liste))\n",
        "  print(\"Sıralı liste: \", sorted(liste))"
      ],
      "metadata": {
        "id": "cbNw86SnBXXT"
      },
      "execution_count": 12,
      "outputs": []
    },
    {
      "cell_type": "code",
      "source": [
        "list_veri_ornegi()"
      ],
      "metadata": {
        "colab": {
          "base_uri": "https://localhost:8080/"
        },
        "id": "11BkoyrJBY9_",
        "outputId": "e1656eb2-05b8-4346-9f33-d84992fd920b"
      },
      "execution_count": 13,
      "outputs": [
        {
          "output_type": "stream",
          "name": "stdout",
          "text": [
            "Listenin Toplam Degeri:  150\n",
            "Liste eleman sayısı:  5\n",
            "Sıralı liste:  [10, 20, 30, 40, 50]\n"
          ]
        }
      ]
    },
    {
      "cell_type": "code",
      "source": [
        "def string_metin_fonksiyonları():\n",
        "  metin_degeri = \"Python algoritma dersi\"\n",
        "  print(\"Büyük Harf Çevrimi: \", metin_degeri.upper())\n",
        "  print(\"Küçük Harf Çevrimi\", metin_degeri.lower())\n",
        "  print(\"İlk Harfler Büyük: \", metin_degeri.title())\n",
        "  print(\"Metin Bölme: \", metin_degeri.split())"
      ],
      "metadata": {
        "id": "CJoItuZQBahI"
      },
      "execution_count": 14,
      "outputs": []
    },
    {
      "cell_type": "code",
      "source": [
        "string_metin_fonksiyonları()"
      ],
      "metadata": {
        "colab": {
          "base_uri": "https://localhost:8080/"
        },
        "id": "DYZbhzJVBcNO",
        "outputId": "16849092-9847-469c-c90d-7f3733cf446c"
      },
      "execution_count": 17,
      "outputs": [
        {
          "output_type": "stream",
          "name": "stdout",
          "text": [
            "Büyük Harf Çevrimi:  PYTHON ALGORITMA DERSI\n",
            "Küçük Harf Çevrimi python algoritma dersi\n",
            "İlk Harfler Büyük:  Python Algoritma Dersi\n",
            "Metin Bölme:  ['Python', 'algoritma', 'dersi']\n"
          ]
        }
      ]
    },
    {
      "cell_type": "code",
      "source": [
        "\n",
        "gelen_veri = int(input(\"Lütfen Metin giriniz!!\"))\n",
        "print(gelen_veri)"
      ],
      "metadata": {
        "colab": {
          "base_uri": "https://localhost:8080/"
        },
        "id": "6lpE1NXCBe4y",
        "outputId": "3f9f3fc7-79ba-4a51-995b-0d1451993ed2"
      },
      "execution_count": 20,
      "outputs": [
        {
          "output_type": "stream",
          "name": "stdout",
          "text": [
            "Lütfen Metin giriniz!!13\n",
            "13\n"
          ]
        }
      ]
    },
    {
      "cell_type": "code",
      "source": [
        "def eleman_kontrol():\n",
        "  liste = [True, False, True, False]\n",
        "  print(\"Tüm elemanlar True mu?: \", all(liste))\n",
        "  print(\"En az bir eleman True mu?: \", any(liste))"
      ],
      "metadata": {
        "id": "ayn0TbAwBr22"
      },
      "execution_count": 21,
      "outputs": []
    },
    {
      "cell_type": "code",
      "source": [
        "eleman_kontrol()"
      ],
      "metadata": {
        "colab": {
          "base_uri": "https://localhost:8080/"
        },
        "id": "OjfFNY3NBvHH",
        "outputId": "dbca290e-e793-4466-fcb3-7238408b728d"
      },
      "execution_count": 22,
      "outputs": [
        {
          "output_type": "stream",
          "name": "stdout",
          "text": [
            "Tüm elemanlar True mu?:  False\n",
            "En az bir eleman True mu?:  True\n"
          ]
        }
      ]
    },
    {
      "cell_type": "code",
      "source": [
        "\n",
        "def list_indeks_sayisi():\n",
        "  meyveler = ['Elma', 'Armut', 'Muz', 'Kiraz']\n",
        "  for index, meyve in enumerate(meyveler):\n",
        "    print(index, meyve) #0 Elma, 1 Armut, 2 Muz, 3 Kiraz"
      ],
      "metadata": {
        "id": "FyXTs8K9B0Ys"
      },
      "execution_count": 23,
      "outputs": []
    },
    {
      "cell_type": "code",
      "source": [
        "list_indeks_sayisi()"
      ],
      "metadata": {
        "colab": {
          "base_uri": "https://localhost:8080/"
        },
        "id": "bmChsGIvB16P",
        "outputId": "bb5dc314-03c8-4c54-e8ae-eeb66586eb72"
      },
      "execution_count": 24,
      "outputs": [
        {
          "output_type": "stream",
          "name": "stdout",
          "text": [
            "0 Elma\n",
            "1 Armut\n",
            "2 Muz\n",
            "3 Kiraz\n"
          ]
        }
      ]
    },
    {
      "cell_type": "code",
      "source": [
        "sayilar = [1, 2, 3]\n",
        "renkler = ['Kırmızı', 'Mavi', 'Yeşil']\n",
        "print(\"Birleştirilmiş Liste Örneği: \", list(zip(sayilar, renkler)))"
      ],
      "metadata": {
        "colab": {
          "base_uri": "https://localhost:8080/"
        },
        "id": "cWxfwnw7B4Hn",
        "outputId": "a04bc78e-6624-4e13-d5de-7317fa8b3008"
      },
      "execution_count": 25,
      "outputs": [
        {
          "output_type": "stream",
          "name": "stdout",
          "text": [
            "Birleştirilmiş Liste Örneği:  [(1, 'Kırmızı'), (2, 'Mavi'), (3, 'Yeşil')]\n"
          ]
        }
      ]
    },
    {
      "cell_type": "code",
      "source": [
        "matematiksel_fonksiyonlar()\n",
        "veri_turu_donusumleri()\n",
        "list_veri_ornegi()\n",
        "string_metin_fonksiyonları()\n",
        "eleman_kontrol()\n",
        "list_indeks_sayisi()"
      ],
      "metadata": {
        "colab": {
          "base_uri": "https://localhost:8080/"
        },
        "id": "NxPT91CiB5js",
        "outputId": "9c355ffa-6299-4064-e0cf-dbe2fb6c598f"
      },
      "execution_count": 26,
      "outputs": [
        {
          "output_type": "stream",
          "name": "stdout",
          "text": [
            "Mutlak Değer İslemi:  10\n",
            "Yuvarlama ismlemi:  5\n",
            "Maksimum Değer:  15\n",
            "Minimum Değer:  5\n",
            "Üs Alma İşlemi:  8\n",
            "Int veri dönüşümü:  3\n",
            "Float veri dönüşümü:  10.0\n",
            "String veri dönüşümü:  123\n",
            "List veri dönüşümü:  ['P', 'y', 't', 'h', 'o', 'n']\n",
            "Tuple veri dönüşümü:  ('P', 'y', 't', 'h', 'o', 'n', '3')\n",
            "Küme veri dönüşümü:  {1, 2, 3, 4}\n",
            "Listenin Toplam Degeri:  150\n",
            "Liste eleman sayısı:  5\n",
            "Sıralı liste:  [10, 20, 30, 40, 50]\n",
            "Büyük Harf Çevrimi:  PYTHON ALGORITMA DERSI\n",
            "Küçük Harf Çevrimi python algoritma dersi\n",
            "İlk Harfler Büyük:  Python Algoritma Dersi\n",
            "Metin Bölme:  ['Python', 'algoritma', 'dersi']\n",
            "Tüm elemanlar True mu?:  False\n",
            "En az bir eleman True mu?:  True\n",
            "0 Elma\n",
            "1 Armut\n",
            "2 Muz\n",
            "3 Kiraz\n"
          ]
        }
      ]
    }
  ]
}