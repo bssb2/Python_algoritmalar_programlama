{
  "nbformat": 4,
  "nbformat_minor": 0,
  "metadata": {
    "colab": {
      "provenance": []
    },
    "kernelspec": {
      "name": "python3",
      "display_name": "Python 3"
    },
    "language_info": {
      "name": "python"
    }
  },
  "cells": [
    {
      "cell_type": "code",
      "execution_count": 1,
      "metadata": {
        "colab": {
          "base_uri": "https://localhost:8080/"
        },
        "id": "rm62Aiy_Z_tl",
        "outputId": "9e642c79-ccf7-44ea-8ada-eea86a2e6611"
      },
      "outputs": [
        {
          "output_type": "stream",
          "name": "stdout",
          "text": [
            "Merhaba, Python Veri Yapıları ve Algoritmalar / Ders 7\n"
          ]
        }
      ],
      "source": [
        "print(\"Merhaba, Python Veri Yapıları ve Algoritmalar / Ders 7\")"
      ]
    },
    {
      "cell_type": "code",
      "source": [
        "import sys  # import python programlama dilinde yazılıma kütüphane eklemeye yarayan bir kod blogudur.\n",
        "print(sys.version)"
      ],
      "metadata": {
        "colab": {
          "base_uri": "https://localhost:8080/"
        },
        "id": "1LgYDh_BaR9H",
        "outputId": "c2c212d1-db58-46d0-8d08-281d82414a3c"
      },
      "execution_count": 2,
      "outputs": [
        {
          "output_type": "stream",
          "name": "stdout",
          "text": [
            "3.11.11 (main, Dec  4 2024, 08:55:07) [GCC 11.4.0]\n"
          ]
        }
      ]
    },
    {
      "cell_type": "code",
      "source": [
        "from google.colab import drive # google colab - drive bağlantısı\n",
        "\n",
        "drive.mount('/content/drive')"
      ],
      "metadata": {
        "colab": {
          "base_uri": "https://localhost:8080/"
        },
        "id": "sWcwUollaU3G",
        "outputId": "57be0af0-0c3d-4bd8-b0ac-fadd58aaedf3"
      },
      "execution_count": 3,
      "outputs": [
        {
          "output_type": "stream",
          "name": "stdout",
          "text": [
            "Mounted at /content/drive\n"
          ]
        }
      ]
    },
    {
      "cell_type": "code",
      "source": [
        "import os\n",
        "\n",
        "os.chdir('/content/drive/My Drive/ALGORITMALAR_MYO')\n",
        "\n",
        "!pwd # bize kodun çıktısını dosya yolu olarak veren kod blogudur."
      ],
      "metadata": {
        "colab": {
          "base_uri": "https://localhost:8080/"
        },
        "id": "mflhK3-yacYO",
        "outputId": "cb815b66-8dbe-495c-f202-42f3af2afc8d"
      },
      "execution_count": 8,
      "outputs": [
        {
          "output_type": "stream",
          "name": "stdout",
          "text": [
            "/content/drive/My Drive/ALGORITMALAR_MYO\n"
          ]
        }
      ]
    },
    {
      "cell_type": "code",
      "source": [
        "# 7.1. Sıralı, Koşullu ve Tekrarlı Yapılar\n",
        "\n",
        "mil = float(input(\"KM'ye çevirilecek Mil bilgisini girin\"))\n",
        "kilometre = mil * 1.60934\n",
        "print(kilometre)"
      ],
      "metadata": {
        "colab": {
          "base_uri": "https://localhost:8080/"
        },
        "id": "7TmLUTrbamnf",
        "outputId": "090994e0-21ef-4143-949a-2cbc8f974f3c"
      },
      "execution_count": 9,
      "outputs": [
        {
          "output_type": "stream",
          "name": "stdout",
          "text": [
            "KM'ye çevirilecek Mil bilgisini girin5\n",
            "8.0467\n"
          ]
        }
      ]
    },
    {
      "cell_type": "code",
      "source": [
        "a = 10\n",
        "if a > 10: # True - False\n",
        "  a = a+1\n",
        "print(a)"
      ],
      "metadata": {
        "colab": {
          "base_uri": "https://localhost:8080/"
        },
        "id": "J6FYb77Wasa-",
        "outputId": "247f59f7-19a5-470d-db05-ad5496c99b5e"
      },
      "execution_count": 20,
      "outputs": [
        {
          "output_type": "stream",
          "name": "stdout",
          "text": [
            "10\n"
          ]
        }
      ]
    },
    {
      "cell_type": "code",
      "source": [
        "for degisken in range(1, 11):\n",
        "  print(degisken)"
      ],
      "metadata": {
        "colab": {
          "base_uri": "https://localhost:8080/"
        },
        "id": "YsBD8RleauSm",
        "outputId": "a396fbd9-d362-4c06-abb4-8309df69c833"
      },
      "execution_count": 11,
      "outputs": [
        {
          "output_type": "stream",
          "name": "stdout",
          "text": [
            "1\n",
            "2\n",
            "3\n",
            "4\n",
            "5\n",
            "6\n",
            "7\n",
            "8\n",
            "9\n",
            "10\n"
          ]
        }
      ]
    },
    {
      "cell_type": "code",
      "source": [
        "print(\"Günlük çalışma saatini gir\")\n",
        "\n",
        "saat = float(input(\"Saat Bilgisi\"))\n",
        "\n",
        "ucret = float(input(\"Ucret Bilgisi\"))\n",
        "\n",
        "brutmaas = saat * ucret\n",
        "\n",
        "print(\"Gunluk Hesaplanan Brut Maaş: \", brutmaas, \" TL\")"
      ],
      "metadata": {
        "colab": {
          "base_uri": "https://localhost:8080/"
        },
        "id": "j6l2hk7Yihxj",
        "outputId": "72883908-b7ee-4bec-8d52-e4ca75e9dd3c"
      },
      "execution_count": 22,
      "outputs": [
        {
          "output_type": "stream",
          "name": "stdout",
          "text": [
            "Günlük çalışma saatini gir\n",
            "Saat Bilgisi3\n",
            "Ucret Bilgisi3\n",
            "Gunluk Hesaplanan Brut Maaş:  9.0  TL\n"
          ]
        }
      ]
    },
    {
      "cell_type": "code",
      "source": [
        "print(\"Günlük çalışma saatini gir\")\n",
        "\n",
        "saat = float(input(\"Saat Bilgisi\"))\n",
        "ucret = float(input(\"Ucret Bilgisi\"))\n",
        "\n",
        "Gun = 30\n",
        "\n",
        "aylik_maas = Gun * saat * ucret\n",
        "\n",
        "#print(\"Gunluk Hesaplanan Brut Maaş: \", brutmaas, \" TL\")\n",
        "print(\"Aylık Hesaplanan Brut Maaş: \", aylik_maas, \" TL\")"
      ],
      "metadata": {
        "colab": {
          "base_uri": "https://localhost:8080/"
        },
        "id": "G0uz75diiwW3",
        "outputId": "dcae5866-1ad3-4269-d178-52fbeee3a9d9"
      },
      "execution_count": 23,
      "outputs": [
        {
          "output_type": "stream",
          "name": "stdout",
          "text": [
            "Günlük çalışma saatini gir\n",
            "Saat Bilgisi3\n",
            "Ucret Bilgisi3\n",
            "Aylık Hesaplanan Brut Maaş:  270.0  TL\n"
          ]
        }
      ]
    },
    {
      "cell_type": "code",
      "source": [
        "mil = float(input(\"KM'ye çevirilecek Mil bilgisini girin\"))\n",
        "kilometre = mil * 1.60934\n",
        "print(kilometre)"
      ],
      "metadata": {
        "colab": {
          "base_uri": "https://localhost:8080/"
        },
        "id": "suuVdbKli_QM",
        "outputId": "499f3072-b3bc-47f3-e897-7c80f6fae1b5"
      },
      "execution_count": 25,
      "outputs": [
        {
          "output_type": "stream",
          "name": "stdout",
          "text": [
            "KM'ye çevirilecek Mil bilgisini girin1\n",
            "1.60934\n"
          ]
        }
      ]
    },
    {
      "cell_type": "code",
      "source": [
        "sayi = int(input(\"4 Basamaklı sayı bilgisi giriniz\"))\n",
        "\n",
        "binler = sayi // 1000\n",
        "yuzler = (sayi // 100) % 10\n",
        "onlar = (sayi // 10) % 10\n",
        "birler = sayi % 10\n",
        "\n",
        "print(\"Sayının Rakamlar: \", binler, yuzler, onlar, birler)\n",
        "\n",
        "yeni_sayi = yuzler * 1000 + binler * 100 + onlar * 10 + birler\n",
        "\n",
        "print(\"Yeni Sayı: \", yeni_sayi)\n",
        "\n",
        "print(\"Girilen Sayı: \", sayi)"
      ],
      "metadata": {
        "colab": {
          "base_uri": "https://localhost:8080/"
        },
        "id": "hHno8q0GjAd9",
        "outputId": "fbe63011-96d3-4c8d-9abe-1c92b110be5f"
      },
      "execution_count": 26,
      "outputs": [
        {
          "output_type": "stream",
          "name": "stdout",
          "text": [
            "4 Basamaklı sayı bilgisi giriniz1938\n",
            "Sayının Rakamlar:  1 9 3 8\n",
            "Yeni Sayı:  9138\n",
            "Girilen Sayı:  1938\n"
          ]
        }
      ]
    },
    {
      "cell_type": "code",
      "source": [
        "metin = \"Python\"\n",
        "\n",
        "print(\"Metnin uzunluğu \", len(metin))\n",
        "\n",
        "print(\"Büyük harf dönüşümü \", metin.upper())\n",
        "\n",
        "print(\"Küçük harf dönüşümü \", metin.lower())\n",
        "#SINAVDA ÇIKABİLİR"
      ],
      "metadata": {
        "colab": {
          "base_uri": "https://localhost:8080/"
        },
        "id": "4MipcEPmjOQa",
        "outputId": "7764a856-d2f8-4adc-8c6a-046bb8c64fc5"
      },
      "execution_count": 52,
      "outputs": [
        {
          "output_type": "stream",
          "name": "stdout",
          "text": [
            "Metnin uzunluğu  6\n",
            "Büyük harf dönüşümü  PYTHON\n",
            "Küçük harf dönüşümü  python\n"
          ]
        }
      ]
    },
    {
      "cell_type": "code",
      "source": [
        "a = 10\n",
        "if a > 0:\n",
        "  a=a+1\n",
        "print(a)"
      ],
      "metadata": {
        "colab": {
          "base_uri": "https://localhost:8080/"
        },
        "id": "5EXVZskFkEBi",
        "outputId": "f06fe973-d6ac-4da6-81ba-6d4301920fd6"
      },
      "execution_count": 28,
      "outputs": [
        {
          "output_type": "stream",
          "name": "stdout",
          "text": [
            "11\n"
          ]
        }
      ]
    },
    {
      "cell_type": "code",
      "source": [
        "a = 4\n",
        "b = 1\n",
        "\n",
        "if a > b:\n",
        "  print(a)\n",
        "else:\n",
        "  print(b)"
      ],
      "metadata": {
        "colab": {
          "base_uri": "https://localhost:8080/"
        },
        "id": "yqkJa4SRkKd6",
        "outputId": "86ac5168-1c93-478c-928b-9cc2575ad7c7"
      },
      "execution_count": 29,
      "outputs": [
        {
          "output_type": "stream",
          "name": "stdout",
          "text": [
            "4\n"
          ]
        }
      ]
    },
    {
      "cell_type": "code",
      "source": [
        "a = 5\n",
        "b = 4\n",
        "c = 0\n",
        "\n",
        "if a>0 and b>0:\n",
        "  c = a + b\n",
        "  c = a * a + c\n",
        "print(c)"
      ],
      "metadata": {
        "colab": {
          "base_uri": "https://localhost:8080/"
        },
        "id": "9WnSKIBQlCUK",
        "outputId": "f8912443-52f4-4355-83bb-0ca850c1da7b"
      },
      "execution_count": 30,
      "outputs": [
        {
          "output_type": "stream",
          "name": "stdout",
          "text": [
            "34\n"
          ]
        }
      ]
    },
    {
      "cell_type": "code",
      "source": [
        "a = 5\n",
        "b = 4\n",
        "c = 4\n",
        "\n",
        "if a>0 and b<0:\n",
        "  c = a * b + b\n",
        "print(c)"
      ],
      "metadata": {
        "colab": {
          "base_uri": "https://localhost:8080/"
        },
        "id": "xFj-hPfglu_c",
        "outputId": "7d237de0-4dbe-49be-ba87-8165394c255b"
      },
      "execution_count": 43,
      "outputs": [
        {
          "output_type": "stream",
          "name": "stdout",
          "text": [
            "4\n"
          ]
        }
      ]
    },
    {
      "cell_type": "code",
      "source": [
        "a = 4\n",
        "b = 1\n",
        "c = 9\n",
        "sonuc = 0\n",
        "\n",
        "if a>0:\n",
        "  sonuc += 1\n",
        "  sonuc = a * c - b\n",
        "  print(sonuc)\n",
        "else:\n",
        "  sonuc -= 1\n",
        "  sonuc = a/c + b\n",
        "  print(sonuc)"
      ],
      "metadata": {
        "colab": {
          "base_uri": "https://localhost:8080/"
        },
        "id": "QNk5aVh9mGCP",
        "outputId": "1d3aeef5-a249-4514-b4a1-9701ca749607"
      },
      "execution_count": 46,
      "outputs": [
        {
          "output_type": "stream",
          "name": "stdout",
          "text": [
            "35\n"
          ]
        }
      ]
    },
    {
      "cell_type": "code",
      "source": [
        "degisken = 0\n",
        "sonuc = 0\n",
        "\n",
        "if degisken == 1:\n",
        "  sonuc += 1\n",
        "  print(sonuc)\n",
        "elif degisken == 2:\n",
        "  sonuc += 2\n",
        "  print(sonuc)\n",
        "elif degisken == 3:\n",
        "  sonuc += 3\n",
        "  print(sonuc)\n",
        "else:\n",
        "  sonuc = 0\n",
        "  print(sonuc)"
      ],
      "metadata": {
        "colab": {
          "base_uri": "https://localhost:8080/"
        },
        "id": "TpYeuD1_mJS-",
        "outputId": "2ecc7eaa-f188-4847-af99-8dc7c324f7ee"
      },
      "execution_count": 47,
      "outputs": [
        {
          "output_type": "stream",
          "name": "stdout",
          "text": [
            "0\n"
          ]
        }
      ]
    },
    {
      "cell_type": "code",
      "source": [
        "# 7.4. Python Programlama Dili Üzerinde Döngü Yapıları\n",
        "\n",
        "for i in [1, 2, 3, 4, 5, 6, 7, 8, 9, 10]:\n",
        "  print(i)\n",
        "\n",
        "  #SINAVDA ÇIKABİLİR"
      ],
      "metadata": {
        "colab": {
          "base_uri": "https://localhost:8080/"
        },
        "id": "YJFFSIY5mgEl",
        "outputId": "99bde437-8402-4e36-bfac-fe1c9d4cef5b"
      },
      "execution_count": 80,
      "outputs": [
        {
          "output_type": "stream",
          "name": "stdout",
          "text": [
            "1\n",
            "2\n",
            "3\n",
            "4\n",
            "5\n",
            "6\n",
            "7\n",
            "8\n",
            "9\n",
            "10\n"
          ]
        }
      ]
    },
    {
      "cell_type": "code",
      "source": [
        "for i in range(1, 11):\n",
        "  print(i)\n",
        "#SINAVDA ÇIKABİLİR"
      ],
      "metadata": {
        "colab": {
          "base_uri": "https://localhost:8080/"
        },
        "id": "gyt52dr9m6s6",
        "outputId": "7ea6b306-9965-4caa-e417-8a75b6a0e6a3"
      },
      "execution_count": 51,
      "outputs": [
        {
          "output_type": "stream",
          "name": "stdout",
          "text": [
            "1\n",
            "2\n",
            "3\n",
            "4\n",
            "5\n",
            "6\n",
            "7\n",
            "8\n",
            "9\n",
            "10\n"
          ]
        }
      ]
    },
    {
      "cell_type": "code",
      "source": [
        "for i in range(1, 11, 3):\n",
        "  print(i)"
      ],
      "metadata": {
        "colab": {
          "base_uri": "https://localhost:8080/"
        },
        "id": "XXQ7FLGJncvs",
        "outputId": "4a4909b9-6081-4516-d308-30500296fcc3"
      },
      "execution_count": 53,
      "outputs": [
        {
          "output_type": "stream",
          "name": "stdout",
          "text": [
            "1\n",
            "4\n",
            "7\n",
            "10\n"
          ]
        }
      ]
    },
    {
      "cell_type": "code",
      "source": [
        "for i in range(3, 11, 3):\n",
        "  print(i)"
      ],
      "metadata": {
        "colab": {
          "base_uri": "https://localhost:8080/"
        },
        "id": "GzAR0EsZngE0",
        "outputId": "d1928286-9326-4e27-fb84-9d77bea0ce04"
      },
      "execution_count": 59,
      "outputs": [
        {
          "output_type": "stream",
          "name": "stdout",
          "text": [
            "3\n",
            "6\n",
            "9\n"
          ]
        }
      ]
    },
    {
      "cell_type": "code",
      "source": [
        "for sayi in range(1, 11):\n",
        "  if sayi == 3:\n",
        "    continue\n",
        "  if sayi == 7:\n",
        "    break\n",
        "  print(sayi)\n",
        "#7'ye gelince (7 dahil) break döngüyü bitiriyor, continue döngüde atlama yapmayı sağlıyor"
      ],
      "metadata": {
        "colab": {
          "base_uri": "https://localhost:8080/"
        },
        "id": "mFezaBwvn9dX",
        "outputId": "4cde00b4-3c7e-4373-b260-91f6da1e6faf"
      },
      "execution_count": 62,
      "outputs": [
        {
          "output_type": "stream",
          "name": "stdout",
          "text": [
            "1\n",
            "2\n",
            "4\n",
            "5\n",
            "6\n"
          ]
        }
      ]
    },
    {
      "cell_type": "code",
      "source": [
        "sayi = 0\n",
        "toplam = 0\n",
        "\n",
        "while sayi < 99:\n",
        "  print(sayi)\n",
        "  toplam += sayi # toplam = toplam + sayi\n",
        "  sayi += 1  # sayi = sayi + 1\n",
        "print(\"Sayilarin Toplami: \", toplam)"
      ],
      "metadata": {
        "colab": {
          "base_uri": "https://localhost:8080/"
        },
        "id": "-JnEhZ5bo_Us",
        "outputId": "571cb338-23d6-4b6f-ef13-66d4845f6687"
      },
      "execution_count": 63,
      "outputs": [
        {
          "output_type": "stream",
          "name": "stdout",
          "text": [
            "0\n",
            "1\n",
            "2\n",
            "3\n",
            "4\n",
            "5\n",
            "6\n",
            "7\n",
            "8\n",
            "9\n",
            "10\n",
            "11\n",
            "12\n",
            "13\n",
            "14\n",
            "15\n",
            "16\n",
            "17\n",
            "18\n",
            "19\n",
            "20\n",
            "21\n",
            "22\n",
            "23\n",
            "24\n",
            "25\n",
            "26\n",
            "27\n",
            "28\n",
            "29\n",
            "30\n",
            "31\n",
            "32\n",
            "33\n",
            "34\n",
            "35\n",
            "36\n",
            "37\n",
            "38\n",
            "39\n",
            "40\n",
            "41\n",
            "42\n",
            "43\n",
            "44\n",
            "45\n",
            "46\n",
            "47\n",
            "48\n",
            "49\n",
            "50\n",
            "51\n",
            "52\n",
            "53\n",
            "54\n",
            "55\n",
            "56\n",
            "57\n",
            "58\n",
            "59\n",
            "60\n",
            "61\n",
            "62\n",
            "63\n",
            "64\n",
            "65\n",
            "66\n",
            "67\n",
            "68\n",
            "69\n",
            "70\n",
            "71\n",
            "72\n",
            "73\n",
            "74\n",
            "75\n",
            "76\n",
            "77\n",
            "78\n",
            "79\n",
            "80\n",
            "81\n",
            "82\n",
            "83\n",
            "84\n",
            "85\n",
            "86\n",
            "87\n",
            "88\n",
            "89\n",
            "90\n",
            "91\n",
            "92\n",
            "93\n",
            "94\n",
            "95\n",
            "96\n",
            "97\n",
            "98\n",
            "Sayilarin Toplami:  4851\n"
          ]
        }
      ]
    },
    {
      "cell_type": "code",
      "source": [
        "for ch in range(ord('A'), ord('Z')+1):\n",
        "  print(\"Harf Listesi: \", chr(ch))\n",
        "\n",
        "  #z ye +1 eklemezsen Y de biter"
      ],
      "metadata": {
        "colab": {
          "base_uri": "https://localhost:8080/"
        },
        "id": "Ehc7cFJ2pTrQ",
        "outputId": "529ad07f-3b29-4ddb-b17f-f2d9c8942575"
      },
      "execution_count": 65,
      "outputs": [
        {
          "output_type": "stream",
          "name": "stdout",
          "text": [
            "Harf Listesi:  A\n",
            "Harf Listesi:  B\n",
            "Harf Listesi:  C\n",
            "Harf Listesi:  D\n",
            "Harf Listesi:  E\n",
            "Harf Listesi:  F\n",
            "Harf Listesi:  G\n",
            "Harf Listesi:  H\n",
            "Harf Listesi:  I\n",
            "Harf Listesi:  J\n",
            "Harf Listesi:  K\n",
            "Harf Listesi:  L\n",
            "Harf Listesi:  M\n",
            "Harf Listesi:  N\n",
            "Harf Listesi:  O\n",
            "Harf Listesi:  P\n",
            "Harf Listesi:  Q\n",
            "Harf Listesi:  R\n",
            "Harf Listesi:  S\n",
            "Harf Listesi:  T\n",
            "Harf Listesi:  U\n",
            "Harf Listesi:  V\n",
            "Harf Listesi:  W\n",
            "Harf Listesi:  X\n",
            "Harf Listesi:  Y\n",
            "Harf Listesi:  Z\n"
          ]
        }
      ]
    },
    {
      "cell_type": "code",
      "source": [
        "while True:\n",
        "  sayi = float(input(\"Sayıyı Gir\"))\n",
        "  if sayi == 0:\n",
        "    print(\"0 Girdiniz, Başka bir rakam giriniz!!!\")\n",
        "    continue\n",
        "  elif sayi>0:\n",
        "    print(\"Sayı Pozitif\")\n",
        "  else:\n",
        "    print(\"Sayı Negatif\")\n",
        "  break"
      ],
      "metadata": {
        "colab": {
          "base_uri": "https://localhost:8080/"
        },
        "id": "NRw5lck-vvPj",
        "outputId": "1f6bd3be-2eb2-407b-beca-129186fb9cd8"
      },
      "execution_count": 67,
      "outputs": [
        {
          "output_type": "stream",
          "name": "stdout",
          "text": [
            "Sayıyı Gir0\n",
            "0 Girdiniz, Başka bir rakam giriniz!!!\n",
            "Sayıyı Gir0\n",
            "0 Girdiniz, Başka bir rakam giriniz!!!\n",
            "Sayıyı Gir0\n",
            "0 Girdiniz, Başka bir rakam giriniz!!!\n",
            "Sayıyı Gir1\n",
            "Sayı Pozitif\n"
          ]
        }
      ]
    },
    {
      "cell_type": "code",
      "source": [
        "n = int(input(\"Sayı Gir\"))\n",
        "\n",
        "toplam = 0\n",
        "\n",
        "for sayac in range(1, n+1):\n",
        "  toplam += sayac\n",
        "\n",
        "print(\"Sonuc: \", toplam)"
      ],
      "metadata": {
        "colab": {
          "base_uri": "https://localhost:8080/"
        },
        "id": "SyU9CiHQw0u1",
        "outputId": "1ed3db98-b001-4dd1-d878-4580a0acfc17"
      },
      "execution_count": 77,
      "outputs": [
        {
          "output_type": "stream",
          "name": "stdout",
          "text": [
            "Sayı Gir5\n",
            "Sonuc:  15\n"
          ]
        }
      ]
    },
    {
      "cell_type": "code",
      "source": [
        "x = 3\n",
        "c = 0\n",
        "\n",
        "while c<3:\n",
        "  print(\"Ekran Cıktısı: \", c, x)\n",
        "  x = x * x\n",
        "  c = c + 1\n",
        "\n",
        "print(\"Döngü Sonu: \", c, x)"
      ],
      "metadata": {
        "colab": {
          "base_uri": "https://localhost:8080/"
        },
        "id": "VAek7MGEyMLE",
        "outputId": "6b0ce807-56bb-491b-db14-9a450a8d7b3b"
      },
      "execution_count": 73,
      "outputs": [
        {
          "output_type": "stream",
          "name": "stdout",
          "text": [
            "Ekran Cıktısı:  0 3\n",
            "Ekran Cıktısı:  1 9\n",
            "Ekran Cıktısı:  2 81\n",
            "Döngü Sonu:  3 6561\n"
          ]
        }
      ]
    },
    {
      "cell_type": "code",
      "source": [
        "# 7.5. Python Programlama Dili Üzerinde Sıralı, Koşul & Döngü Örnekleri\n",
        "\n",
        "n = int(input(\"Sayi Gir\"))\n",
        "\n",
        "if n % 2 == 0:\n",
        "  print(\"Girilen Sayı: \", n, \" çifttir\")\n",
        "else:\n",
        "  print(\"Girilen Sayı: \", n, \" tektir\")"
      ],
      "metadata": {
        "colab": {
          "base_uri": "https://localhost:8080/"
        },
        "id": "LpDHkDZ80JPE",
        "outputId": "68f06ccb-6a43-4b2b-c10f-62f9fb5cfb17"
      },
      "execution_count": 78,
      "outputs": [
        {
          "output_type": "stream",
          "name": "stdout",
          "text": [
            "Sayi Gir2\n",
            "Girilen Sayı:  2  çifttir\n"
          ]
        }
      ]
    },
    {
      "cell_type": "code",
      "source": [
        "n = float(input(\"Sayı Gir\"))\n",
        "\n",
        "if n < 0:\n",
        "  print(\"Girilen Sayı Negatif ve mutlak degeri\", n * (-1), \" 'dır.\")\n",
        "else:\n",
        "  print(\"Girilen Sayı \", n, \" pozitiftir\")"
      ],
      "metadata": {
        "colab": {
          "base_uri": "https://localhost:8080/"
        },
        "id": "s7xj8rhP0U4m",
        "outputId": "b096db94-554d-49fe-9264-e3230401a63e"
      },
      "execution_count": 79,
      "outputs": [
        {
          "output_type": "stream",
          "name": "stdout",
          "text": [
            "Sayı Gir-9\n",
            "Girilen Sayı Negatif ve mutlak degeri 9.0  'dır.\n"
          ]
        }
      ]
    },
    {
      "cell_type": "code",
      "source": [
        "x = int(input(\"İlk sayıyı gir\"))\n",
        "y = int(input(\"ikinci sayıyı gir\"))\n",
        "\n",
        "if x % y == 0:\n",
        "  print(\"X sayısı Y Sayısına Tam Bölünür\")\n",
        "else:\n",
        "  print(\"X sayısı Y Sayısına Tam Bölünmez\")"
      ],
      "metadata": {
        "colab": {
          "base_uri": "https://localhost:8080/"
        },
        "id": "DepNtOAF0wrG",
        "outputId": "bdd43232-32d7-448b-975b-eef406e2666d"
      },
      "execution_count": 81,
      "outputs": [
        {
          "output_type": "stream",
          "name": "stdout",
          "text": [
            "İlk sayıyı gir8\n",
            "ikinci sayıyı gir3\n",
            "X sayısı Y Sayısına Tam Bölünmez\n"
          ]
        }
      ]
    },
    {
      "cell_type": "code",
      "source": [
        "yil = int(input(\"Yıl Gir\"))\n",
        "if yil % 4 == 0:\n",
        "  print(\"Girilen Yıl: \", yil, \" artık yıldır\")\n",
        "else:\n",
        "  print(\"Girilen Yıl: \", yil, \" artık yıl değildir\")"
      ],
      "metadata": {
        "colab": {
          "base_uri": "https://localhost:8080/"
        },
        "id": "tQZnI4CQ1usN",
        "outputId": "be47b442-a963-481a-bfdf-04603c79c581"
      },
      "execution_count": 84,
      "outputs": [
        {
          "output_type": "stream",
          "name": "stdout",
          "text": [
            "Yıl Gir2025\n",
            "Girilen Yıl:  2025  artık yıl değildir\n"
          ]
        }
      ]
    },
    {
      "cell_type": "code",
      "source": [
        "sayi = 1\n",
        "\n",
        "while sayi<=100:\n",
        "  karekok = int(sayi ** 0.5)\n",
        "  if karekok ** 2 == sayi:\n",
        "    print(sayi)\n",
        "  sayi += 1 # sayi = sayi + 1"
      ],
      "metadata": {
        "colab": {
          "base_uri": "https://localhost:8080/"
        },
        "id": "2ozVCmOD2xSZ",
        "outputId": "87f90028-f634-4726-b5df-c3cfc83872f5"
      },
      "execution_count": 85,
      "outputs": [
        {
          "output_type": "stream",
          "name": "stdout",
          "text": [
            "1\n",
            "4\n",
            "9\n",
            "16\n",
            "25\n",
            "36\n",
            "49\n",
            "64\n",
            "81\n",
            "100\n"
          ]
        }
      ]
    }
  ]
}