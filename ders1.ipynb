{
  "nbformat": 4,
  "nbformat_minor": 0,
  "metadata": {
    "colab": {
      "provenance": []
    },
    "kernelspec": {
      "name": "python3",
      "display_name": "Python 3"
    },
    "language_info": {
      "name": "python"
    }
  },
  "cells": [
    {
      "cell_type": "code",
      "execution_count": null,
      "metadata": {
        "colab": {
          "base_uri": "https://localhost:8080/"
        },
        "id": "xzRYJMZRY_e1",
        "outputId": "efa46f09-5ab3-4fbe-c234-47a65bf4a9e8"
      },
      "outputs": [
        {
          "output_type": "stream",
          "name": "stdout",
          "text": [
            "Merhaba - Algoritmalar Dersi\n"
          ]
        }
      ],
      "source": [
        "print(\"Merhaba - Algoritmalar Dersi\")"
      ]
    }
  ]
}