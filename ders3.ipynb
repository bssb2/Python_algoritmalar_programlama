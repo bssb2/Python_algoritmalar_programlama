{
  "nbformat": 4,
  "nbformat_minor": 0,
  "metadata": {
    "colab": {
      "provenance": []
    },
    "kernelspec": {
      "name": "python3",
      "display_name": "Python 3"
    },
    "language_info": {
      "name": "python"
    }
  },
  "cells": [
    {
      "cell_type": "code",
      "execution_count": null,
      "metadata": {
        "colab": {
          "base_uri": "https://localhost:8080/"
        },
        "id": "KmMdS1LmJXXI",
        "outputId": "e2f64ae6-1544-45b2-d361-207d95404f0b"
      },
      "outputs": [
        {
          "output_type": "stream",
          "name": "stdout",
          "text": [
            "merhaba python algoritma sınıfı\n"
          ]
        }
      ],
      "source": [
        "print(\"merhaba python algoritma sınıfı\")"
      ]
    },
    {
      "cell_type": "code",
      "source": [
        "import sys #import python programlama dilinde kütüphane eklemeye yarayan bir kod blogudur.\n",
        "print(sys.version)"
      ],
      "metadata": {
        "colab": {
          "base_uri": "https://localhost:8080/"
        },
        "id": "Fgww7DYPMqKG",
        "outputId": "4b0a2213-5450-4886-8416-835a5140452d"
      },
      "execution_count": null,
      "outputs": [
        {
          "output_type": "stream",
          "name": "stdout",
          "text": [
            "3.11.11 (main, Dec  4 2024, 08:55:07) [GCC 11.4.0]\n"
          ]
        }
      ]
    },
    {
      "cell_type": "code",
      "source": [
        "from google.colab import drive #google colab - drive bağlantısı\n",
        "drive.mount('/content/drive')"
      ],
      "metadata": {
        "colab": {
          "base_uri": "https://localhost:8080/"
        },
        "id": "W7ljdtGpNK0G",
        "outputId": "2d1aaabf-e774-459d-a8c6-b8894e4756f2"
      },
      "execution_count": null,
      "outputs": [
        {
          "output_type": "stream",
          "name": "stdout",
          "text": [
            "Mounted at /content/drive\n"
          ]
        }
      ]
    },
    {
      "cell_type": "code",
      "source": [
        "import os\n",
        "os.chdir('/content/drive/My Drive/ALGORITMALAR_MYO')\n",
        "!pwd #bize kodun çıktısını dosya yolu olarak veren kod blogudur."
      ],
      "metadata": {
        "colab": {
          "base_uri": "https://localhost:8080/"
        },
        "id": "tt6sssTOPcu9",
        "outputId": "5d1a6d83-fe32-41d5-90a0-9733e2241620"
      },
      "execution_count": null,
      "outputs": [
        {
          "output_type": "stream",
          "name": "stdout",
          "text": [
            "/content/drive/My Drive/ALGORITMALAR_MYO\n"
          ]
        }
      ]
    },
    {
      "cell_type": "markdown",
      "source": [
        "VERİ YAPILARI ve TİPLERİ\n",
        "\n",
        "Veri Yapıları nedir? Veri yapıları, verilerin organize edilmesinde ve saklanırken türlerini tanımlar. Bu yapılar, verilerin etkin bir şekilde kullanımı - işlenmesini sağlamaktadır.\n",
        "\n",
        "Buradaki ilk kural değişken isimlendirme kurallarının kavranmasıdır.\n",
        "\n",
        "Değişken ismi arasında boşluk bilgisi kesinlikle olmamalıdır.\n",
        "Özel karakter kesinlikle eklenmemelidir.\n",
        "Değişkenlerde Türkçe Karakter kullanılmamalıdır\n",
        "Döngü ve Kontrol yapılarının isimleri değişken olamaz (if, for, while)\n",
        "Büyük ve Küçük harf duyarlılığı unutulmamalıdır.\n",
        "\n",
        "Veri Tipleri\n",
        "\n",
        "Integer - Tamsayı tanımlaması\n",
        "Float - Ondalıklı Sayı tanımlaması\n",
        "String - Metinsel içerik tanımlaması\n",
        "Boolean (True - False) - Doğru / Yanlış tanımlaması\n",
        "List - Liste tanımlaması\n",
        "Tuple - Demet tanımlaması\n",
        "Dictionary - Sözlük tanımlaması\n",
        "Set - Küme tanımlaması\n",
        "\n",
        "Python Programlama Dili Temelinde Kullanılan Fonksiyonlar\n",
        "\n",
        "len() -> bir değişkenin uzunluğunu ele almaktadır.\n",
        "type() -> bir değişkenin veri tipini vermektedir.\n",
        "print() -> belirtilen değeri veya değerleri ekrana yazdırır.\n",
        "capitalized() -> bir dizeyi alır ve sadece ilk harfini büyük harf yapar, geri kalan harfleri küçük harf yapar.\n",
        "split() -> bir dizeyi belirli bir ayırıcıya göre böler ve her bir parçayı liste elemanı olarak döner.\n",
        "upper() -> bir dizedeki tüm harfleri büyük harfe çevirir.\n",
        "input() -> kullanıcıdan veri almak için kullanılmaktadır.\n",
        "float() -> bir değeri ondalıklı sayı veri tipine dönüştürmek için kullanılır.\n",
        "int() -> bir değeri tam sayı veri tipine dönüştürmek için kullanılır.\n",
        "abs() -> mutlak değer alma fonksiyonudur.\n",
        "Python Programlama Dilinde Kullanılan Temel Ktüphaneler\n",
        "\n",
        "Kütüphane terim olarak; Belirli bir işlevselliği gerçekleştirmek için önceden yazılmış kod bloklarının bir topluluğudur.\n",
        "\n",
        "Özellikler:\n",
        "\n",
        "Yeniden Kullanılabilirlik\n",
        "\n",
        "Modülerlik\n",
        "\n",
        "Kolaylık, Hız ve Esneklik\n",
        "\n",
        "Dökümantasyon:\n",
        "\n",
        "Python Programlama dilinde Kütüphaneler \"import\" ile yazılıma eklenmektedir. Temel Kütüphaneler:\n",
        "\n",
        "import os -> işletim sistemiyle etkilişimli kod yazımı için gerekli olan bir kütüphanedir. Asli görevi dizin işlemleridir.\n",
        "\n",
        "import random -> yazılımda rastgele bir sayı üretebilmek için kullanılan bir kütüphanedir."
      ],
      "metadata": {
        "id": "9HBI1YaGbG7d"
      }
    },
    {
      "cell_type": "code",
      "source": [
        "# geçerli bir değişken tanımı\n",
        "\n",
        "degisken1 = 10\n",
        "\n",
        "Degisken2 = 20\n",
        "\n",
        "degisken_3 = 30\n",
        "\n",
        "_degisken_4 = 40\n",
        "\n",
        "print(degisken1)\n",
        "print(Degisken2)\n",
        "print(degisken_3)\n",
        "print(_degisken_4)"
      ],
      "metadata": {
        "colab": {
          "base_uri": "https://localhost:8080/"
        },
        "id": "CUqBlN2Dce7O",
        "outputId": "e1a288dc-33c2-4e00-f29a-4de092c79c5c"
      },
      "execution_count": null,
      "outputs": [
        {
          "output_type": "stream",
          "name": "stdout",
          "text": [
            "10\n",
            "20\n",
            "30\n",
            "40\n"
          ]
        }
      ]
    },
    {
      "cell_type": "markdown",
      "source": [
        "BIR DEGISKEN SAYI ILE BASLAYAMAZ HATA VERİR"
      ],
      "metadata": {
        "id": "cta7FW32fMMS"
      }
    },
    {
      "cell_type": "code",
      "source": [
        "# geçerli bir değişken tanımı\n",
        "\n",
        "degisken1 = 10\n",
        "\n",
        "Degisken2 = 20\n",
        "\n",
        "degisken_3 = 30\n",
        "\n",
        "_degisken_4 = 40\n",
        "\n",
        "print(degisken1)\n",
        "print(Degisken2)\n",
        "\n",
        "print(degisken_3+10) #+'dan sonra sayı eklenirse o degiskene e o kadar sayı eklenir (sınavda sorulabilir)\n",
        "\n",
        "print(_degisken_4)"
      ],
      "metadata": {
        "colab": {
          "base_uri": "https://localhost:8080/"
        },
        "id": "m37OCANleo4z",
        "outputId": "bddb5041-1894-4383-d16b-40b72f4146ed"
      },
      "execution_count": null,
      "outputs": [
        {
          "output_type": "stream",
          "name": "stdout",
          "text": [
            "10\n",
            "20\n",
            "40\n",
            "40\n"
          ]
        }
      ]
    },
    {
      "cell_type": "code",
      "source": [
        "#gecersiz değişken tanımlaması\n",
        "\n",
        "1degisken = 50\n",
        "\n",
        "degisken1-4 = 50"
      ],
      "metadata": {
        "colab": {
          "base_uri": "https://localhost:8080/",
          "height": 106
        },
        "id": "qxj0wjIfe820",
        "outputId": "f071e692-1164-4d27-be3b-1c9f46428191"
      },
      "execution_count": null,
      "outputs": [
        {
          "output_type": "error",
          "ename": "SyntaxError",
          "evalue": "invalid decimal literal (<ipython-input-23-d1a9204c0752>, line 3)",
          "traceback": [
            "\u001b[0;36m  File \u001b[0;32m\"<ipython-input-23-d1a9204c0752>\"\u001b[0;36m, line \u001b[0;32m3\u001b[0m\n\u001b[0;31m    1degisken = 50\u001b[0m\n\u001b[0m    ^\u001b[0m\n\u001b[0;31mSyntaxError\u001b[0m\u001b[0;31m:\u001b[0m invalid decimal literal\n"
          ]
        }
      ]
    },
    {
      "cell_type": "code",
      "source": [
        "x=5\n",
        "y=\"Merhaba Dünya\"\n",
        "print(x)\n",
        "print(y)"
      ],
      "metadata": {
        "colab": {
          "base_uri": "https://localhost:8080/"
        },
        "id": "5XXTubpff81y",
        "outputId": "69fe7e72-5090-4cdb-ba2a-c2b1deb26f42"
      },
      "execution_count": null,
      "outputs": [
        {
          "output_type": "stream",
          "name": "stdout",
          "text": [
            "5\n",
            "Merhaba Dünya\n"
          ]
        }
      ]
    },
    {
      "cell_type": "code",
      "source": [
        "a = 10\n",
        "\n",
        "print(type(a), a)"
      ],
      "metadata": {
        "colab": {
          "base_uri": "https://localhost:8080/"
        },
        "id": "n5Cg_jWmMoOB",
        "outputId": "c8f9724f-d4e6-4154-b7c3-20c7be2e144b"
      },
      "execution_count": 2,
      "outputs": [
        {
          "output_type": "stream",
          "name": "stdout",
          "text": [
            "<class 'int'> 10\n"
          ]
        }
      ]
    },
    {
      "cell_type": "code",
      "source": [
        "b = 20.5\n",
        "\n",
        "print(type(b), b)"
      ],
      "metadata": {
        "colab": {
          "base_uri": "https://localhost:8080/"
        },
        "id": "6-_zOR9ZMqnZ",
        "outputId": "e5e909e1-9cfe-47f2-8650-b2d283f59fae"
      },
      "execution_count": 3,
      "outputs": [
        {
          "output_type": "stream",
          "name": "stdout",
          "text": [
            "<class 'float'> 20.5\n"
          ]
        }
      ]
    },
    {
      "cell_type": "code",
      "source": [
        "# int veri tipinden float'a çevirim işlemi örneği\n",
        "\n",
        "y = 10\n",
        "\n",
        "x = float(y)\n",
        "\n",
        "print(x, type(x))"
      ],
      "metadata": {
        "colab": {
          "base_uri": "https://localhost:8080/"
        },
        "id": "IzNPz0X2MtoB",
        "outputId": "c11e3915-2b04-462f-edc2-bfe85b94fa24"
      },
      "execution_count": 4,
      "outputs": [
        {
          "output_type": "stream",
          "name": "stdout",
          "text": [
            "10.0 <class 'float'>\n"
          ]
        }
      ]
    },
    {
      "cell_type": "code",
      "source": [
        "\n",
        "# float veri tipinden int veri tipine çevirim örneği\n",
        "\n",
        "y = 10.74\n",
        "\n",
        "x = int(y)\n",
        "\n",
        "print(x, type(x))\n",
        ""
      ],
      "metadata": {
        "colab": {
          "base_uri": "https://localhost:8080/"
        },
        "id": "Z6FygwGlM1Wy",
        "outputId": "7bd7779f-a853-4ab5-e960-0deb97c424b3"
      },
      "execution_count": 5,
      "outputs": [
        {
          "output_type": "stream",
          "name": "stdout",
          "text": [
            "10 <class 'int'>\n"
          ]
        }
      ]
    },
    {
      "cell_type": "code",
      "source": [
        "# String - metinsel bilgiyi değişkene atama işlemi\n",
        "\n",
        "c = \"Python Programlama\"\n",
        "\n",
        "print(c, type(c))"
      ],
      "metadata": {
        "colab": {
          "base_uri": "https://localhost:8080/"
        },
        "id": "txNRPAAYM5CC",
        "outputId": "1ed9659f-d514-40a9-ee91-442c563fb38b"
      },
      "execution_count": 6,
      "outputs": [
        {
          "output_type": "stream",
          "name": "stdout",
          "text": [
            "Python Programlama <class 'str'>\n"
          ]
        }
      ]
    },
    {
      "cell_type": "code",
      "source": [
        "# Boolean (True / Doğru - False / Yanlış) Değişken tanımlaması\n",
        "\n",
        "d = True # 1 - Aktif\n",
        "e = False # 0 - Pasif\n",
        "\n",
        "print(d)\n",
        "print(type(e))"
      ],
      "metadata": {
        "colab": {
          "base_uri": "https://localhost:8080/"
        },
        "id": "v82y5swZN7Pa",
        "outputId": "a2bfab7b-3cf0-4972-c077-d072d6b46a66"
      },
      "execution_count": 7,
      "outputs": [
        {
          "output_type": "stream",
          "name": "stdout",
          "text": [
            "True\n",
            "<class 'bool'>\n"
          ]
        }
      ]
    },
    {
      "cell_type": "code",
      "source": [
        "# List - liste --> Dizi tanımlaması\n",
        "\n",
        "liste = [1, 2, 3, 4, 5]\n",
        "\n",
        "print(type(liste), liste)"
      ],
      "metadata": {
        "colab": {
          "base_uri": "https://localhost:8080/"
        },
        "id": "KDa7ELn6PKRD",
        "outputId": "a2054b37-e1e5-4ab8-f9a7-35a832b80314"
      },
      "execution_count": 8,
      "outputs": [
        {
          "output_type": "stream",
          "name": "stdout",
          "text": [
            "<class 'list'> [1, 2, 3, 4, 5]\n"
          ]
        }
      ]
    },
    {
      "cell_type": "code",
      "source": [
        "# Demet - Tuple Veri Tipi Tanımlaması\n",
        "\n",
        "demet = (1, 2, 3, 4, 5)\n",
        "\n",
        "print(type(demet), demet)"
      ],
      "metadata": {
        "colab": {
          "base_uri": "https://localhost:8080/"
        },
        "id": "c9w_ePguQvjK",
        "outputId": "9e907e29-c7f7-412f-cfbc-e88503c1d787"
      },
      "execution_count": 15,
      "outputs": [
        {
          "output_type": "stream",
          "name": "stdout",
          "text": [
            "<class 'tuple'> (1, 2, 3, 4, 5)\n"
          ]
        }
      ]
    },
    {
      "cell_type": "code",
      "source": [
        "# Dictionary - Sözlük Veri Tipi Tanımlaması --> Öğrenci Notlarını Tutan bir sözlük tanımlaması\n",
        "\n",
        "notlar = {\n",
        "    \"Ali\": 85,\n",
        "    \"Veli\": 90,\n",
        "    \"Ayşe\": 78\n",
        "}\n",
        "\n",
        "notlar[\"Fatma\"] = 95 # yeni öğrenci ekleme yöntemi\n",
        "notlar[\"Ali\"] = 88 # mevucttaki öğrencinin notunu günleme işlemi\n",
        "\n",
        "print(type(notlar),notlar)"
      ],
      "metadata": {
        "colab": {
          "base_uri": "https://localhost:8080/"
        },
        "id": "zvUXXEJZSOrr",
        "outputId": "42b9a059-110d-42b9-d36a-62129fa4532c"
      },
      "execution_count": 84,
      "outputs": [
        {
          "output_type": "stream",
          "name": "stdout",
          "text": [
            "<class 'dict'> {'Ali': 88, 'Veli': 90, 'Ayşe': 78, 'Fatma': 95}\n"
          ]
        }
      ]
    },
    {
      "cell_type": "code",
      "source": [
        "print(notlar.keys()) # değişkenler alınıyor\n",
        "print(notlar.values()) # değerler alınıyor\n",
        "print(notlar.items()) # hem değişken hem değer alınıyor\n",
        "\n",
        "# SINAVDA GELEBİLECEK TÜRDEN SORU #"
      ],
      "metadata": {
        "colab": {
          "base_uri": "https://localhost:8080/"
        },
        "id": "0iuDH--AbGKl",
        "outputId": "bb50ef71-6df1-4478-e315-877c88e45f3f"
      },
      "execution_count": 90,
      "outputs": [
        {
          "output_type": "stream",
          "name": "stdout",
          "text": [
            "dict_keys(['Ali', 'Veli', 'Ayşe', 'Fatma'])\n",
            "dict_values([88, 90, 78, 95])\n",
            "dict_items([('Ali', 88), ('Veli', 90), ('Ayşe', 78), ('Fatma', 95)])\n"
          ]
        }
      ]
    },
    {
      "cell_type": "code",
      "source": [
        "# Set Küme veri tipi\n",
        "\n",
        "kodyazanlar = {\"Ahmet\", \"Mehmet\", \"Ayşe\"}\n",
        "kodyazmayanlar = {\"Ayşe\", \"Fatma\", \"Veli\"}\n",
        "\n",
        "ortak = kodyazanlar.intersection(kodyazmayanlar)\n",
        "print(\"Kafasına Göre Takılan Arkadaşlar: \", ortak)\n",
        "\n",
        "kod_yazmayanlar = kodyazmayanlar.difference(kodyazanlar)\n",
        "print(\"Kod çalışması yapmayanlar: \", kod_yazmayanlar)\n",
        "\n",
        "imzalistesi = kodyazanlar.union(kodyazmayanlar)\n",
        "print(\"Sınıf İmza Listesi: \", imzalistesi)\n",
        "\n",
        "# sınavda sorulabilir (çıktısı nedir? veya kodda boşluk doldurma)"
      ],
      "metadata": {
        "colab": {
          "base_uri": "https://localhost:8080/"
        },
        "id": "todRBY1BcxZD",
        "outputId": "ad77a819-51a9-490a-986e-462278eb67ec"
      },
      "execution_count": 106,
      "outputs": [
        {
          "output_type": "stream",
          "name": "stdout",
          "text": [
            "Kafasına Göre Takılan Arkadaşlar:  {'Ayşe'}\n",
            "Kod çalışması yapmayanlar:  {'Fatma', 'Veli'}\n",
            "Sınıf İmza Listesi:  {'Ahmet', 'Veli', 'Ayşe', 'Fatma', 'Mehmet'}\n"
          ]
        }
      ]
    },
    {
      "cell_type": "code",
      "source": [
        "giris = input(\"Bir Sayı Giriniz:\")\n",
        "\n",
        "print(giris)"
      ],
      "metadata": {
        "colab": {
          "base_uri": "https://localhost:8080/"
        },
        "id": "WlgnuYhXdtUb",
        "outputId": "ca698e31-f528-438d-eec8-694d64dfcc23"
      },
      "execution_count": 92,
      "outputs": [
        {
          "output_type": "stream",
          "name": "stdout",
          "text": [
            "Bir Sayı Giriniz:100\n",
            "100\n"
          ]
        }
      ]
    },
    {
      "cell_type": "code",
      "source": [
        "giris = input(\"Bir Sayı Giriniz:\")\n",
        "try:\n",
        "    numara = float(giris)\n",
        "    print(\"Girilen Sayı: \", numara)\n",
        "except ValueError:\n",
        "    print(\"Hatalı Bilgi Girişi Yaptınız Lütfen Tekrar Deneyiniz!\")\n",
        "\n",
        "# SINAVDA ÇIKABİLİR"
      ],
      "metadata": {
        "colab": {
          "base_uri": "https://localhost:8080/"
        },
        "id": "1aEZdPwyfqBj",
        "outputId": "6a17af89-f524-4411-b1f6-d1170d194186"
      },
      "execution_count": 126,
      "outputs": [
        {
          "output_type": "stream",
          "name": "stdout",
          "text": [
            "Bir Sayı Giriniz:a\n",
            "Hatalı Bilgi Girişi Yaptınız Lütfen Tekrar Deneyiniz!\n"
          ]
        }
      ]
    },
    {
      "cell_type": "code",
      "source": [
        "import random\n",
        "\n",
        "rastgele = random.random() # random fonksiyonu bize 0 ile 1 arasında rastgele bir sayı üreten fonksiyondur.\n",
        "\n",
        "print(\"Rastgele Gelen Deger: \", rastgele)"
      ],
      "metadata": {
        "colab": {
          "base_uri": "https://localhost:8080/"
        },
        "id": "qychqDrvgyhU",
        "outputId": "ae59d777-708b-4bb0-daeb-94b7ace89510"
      },
      "execution_count": 121,
      "outputs": [
        {
          "output_type": "stream",
          "name": "stdout",
          "text": [
            "Rastgele Gelen Deger:  0.5002942015209887\n"
          ]
        }
      ]
    },
    {
      "cell_type": "code",
      "source": [
        "import random\n",
        "\n",
        "rastgele2 = random.randint(1, 100) # randint fonksiyonu bize istediğimiz aralıkta rastgele bir sayı üreten fonksiyondur.\n",
        "\n",
        "print(\"Rastgele Gelen Deger: \", rastgele2)\n",
        "\n",
        "# SINAVDA ÇIKABİLİR"
      ],
      "metadata": {
        "colab": {
          "base_uri": "https://localhost:8080/"
        },
        "id": "ww-ePmm9gysi",
        "outputId": "8d451af9-432b-4a18-d00b-e40accdf206f"
      },
      "execution_count": 174,
      "outputs": [
        {
          "output_type": "stream",
          "name": "stdout",
          "text": [
            "Rastgele Gelen Deger:  35\n"
          ]
        }
      ]
    },
    {
      "cell_type": "code",
      "source": [
        "asdas=input(\"harf gir:\")\n",
        "try:\n",
        "    o = str(asdas)\n",
        "    print(\"girilen harf: \", asdas)\n",
        "\n",
        "except ValueError:\n",
        "    print(\"yanlış girdiniz tekrar deneyiniz\")"
      ],
      "metadata": {
        "colab": {
          "base_uri": "https://localhost:8080/"
        },
        "id": "kwqanrQBhVRi",
        "outputId": "3b9ae8b3-1179-4c12-e27b-c841ca0b4ab0"
      },
      "execution_count": 145,
      "outputs": [
        {
          "output_type": "stream",
          "name": "stdout",
          "text": [
            "harf gir:t\n",
            "girilen harf:  t\n"
          ]
        }
      ]
    },
    {
      "cell_type": "code",
      "source": [
        "import random\n",
        "\n",
        "asdas=random.randint(0,1000)\n",
        "print(\"sayı: \", asdas)"
      ],
      "metadata": {
        "colab": {
          "base_uri": "https://localhost:8080/"
        },
        "id": "Ow19_h_Ki5hi",
        "outputId": "c5b2c6b0-90b6-42f9-f356-ea23b9a98ff3"
      },
      "execution_count": 217,
      "outputs": [
        {
          "output_type": "stream",
          "name": "stdout",
          "text": [
            "sayı:  877\n"
          ]
        }
      ]
    }
  ]
}