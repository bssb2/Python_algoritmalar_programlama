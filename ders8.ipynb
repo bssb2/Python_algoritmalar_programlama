{
  "nbformat": 4,
  "nbformat_minor": 0,
  "metadata": {
    "colab": {
      "provenance": []
    },
    "kernelspec": {
      "name": "python3",
      "display_name": "Python 3"
    },
    "language_info": {
      "name": "python"
    }
  },
  "cells": [
    {
      "cell_type": "code",
      "source": [
        "print(\"Merhaba, Python Veri Yapıları ve Algoritmalar / Ders 8\")"
      ],
      "metadata": {
        "colab": {
          "base_uri": "https://localhost:8080/"
        },
        "id": "yXBSgGDmwmLZ",
        "outputId": "6fc615bc-0e5b-498e-eee9-941a032a9a2c"
      },
      "execution_count": 1,
      "outputs": [
        {
          "output_type": "stream",
          "name": "stdout",
          "text": [
            "Merhaba, Python Veri Yapıları ve Algoritmalar / Ders 8\n"
          ]
        }
      ]
    },
    {
      "cell_type": "code",
      "source": [
        "import sys  # import python programlama dilinde yazılıma kütüphane eklemeye yarayan bir kod blogudur.\n",
        "print(sys.version)"
      ],
      "metadata": {
        "colab": {
          "base_uri": "https://localhost:8080/"
        },
        "id": "KZYaVLAzwqqm",
        "outputId": "9ae51852-d0d9-4e65-9050-7c529fdf7c9c"
      },
      "execution_count": 3,
      "outputs": [
        {
          "output_type": "stream",
          "name": "stdout",
          "text": [
            "3.11.12 (main, Apr  9 2025, 08:55:54) [GCC 11.4.0]\n"
          ]
        }
      ]
    },
    {
      "cell_type": "code",
      "source": [
        "from google.colab import drive # google colab - drive bağlantısı\n",
        "\n",
        "drive.mount('/content/drive')"
      ],
      "metadata": {
        "colab": {
          "base_uri": "https://localhost:8080/"
        },
        "id": "Bgsl-PswwtdL",
        "outputId": "fa699714-4d08-473a-c366-3c68b82f63c4"
      },
      "execution_count": 4,
      "outputs": [
        {
          "output_type": "stream",
          "name": "stdout",
          "text": [
            "Mounted at /content/drive\n"
          ]
        }
      ]
    },
    {
      "cell_type": "code",
      "source": [
        "import os\n",
        "\n",
        "os.chdir('/content/drive/My Drive/ALGORITMALAR_MYO')\n",
        "\n",
        "!pwd # bize kodun çıktısını dosya yolu olarak veren kod blogudur."
      ],
      "metadata": {
        "colab": {
          "base_uri": "https://localhost:8080/"
        },
        "id": "GPw4f8Ikw0-M",
        "outputId": "0cd008c2-a409-4b3c-e64b-d4b85ef0e58d"
      },
      "execution_count": 10,
      "outputs": [
        {
          "output_type": "stream",
          "name": "stdout",
          "text": [
            "/content/drive/My Drive/ALGORITMALAR_MYO\n"
          ]
        }
      ]
    },
    {
      "cell_type": "markdown",
      "source": [
        "Ders 8. Python Programlama Dili Üzerinde İstisnalar & Hata Yönetimi\n",
        "• ZeroDivisionError: Mod alma ve Sıfıra bölme işlemlerinde karşılaşılır.\n",
        "\n",
        "• FileNotFoundError: Dosya yoluna erişilemediğinde karşılaşılır.\n",
        "\n",
        "• ValueError: Uyumsuz veri türü algılandığında karşılaşılır.\n",
        "\n",
        "• TypeError: Uyumsuz veri ile çalışıldığında karşılaşılır.\n",
        "\n",
        "• NameError: Tanımlanmamış bir değişken çalıştırıldığında karşılaşılır.\n",
        "\n",
        "• IndexError: Bir list veri tipi içerisinde geçerli olmayan indekse erişiminde karşılaşılır.\n",
        "\n",
        "• KeyError: Bir sözlük veri tipinde (dictionary), var olmayan bir anahtar (key) kullanıldığında karşılaşılır."
      ],
      "metadata": {
        "id": "eOEG9sq_xQiU"
      }
    },
    {
      "cell_type": "code",
      "source": [
        "print(\"Merhaba Dünya'"
      ],
      "metadata": {
        "colab": {
          "base_uri": "https://localhost:8080/",
          "height": 106
        },
        "id": "-sfj-8sJxUpb",
        "outputId": "187d7fb0-9470-4e37-a9b9-c3a4c46e95c9"
      },
      "execution_count": 11,
      "outputs": [
        {
          "output_type": "error",
          "ename": "SyntaxError",
          "evalue": "unterminated string literal (detected at line 1) (<ipython-input-11-96ef7171b8af>, line 1)",
          "traceback": [
            "\u001b[0;36m  File \u001b[0;32m\"<ipython-input-11-96ef7171b8af>\"\u001b[0;36m, line \u001b[0;32m1\u001b[0m\n\u001b[0;31m    print(\"Merhaba Dünya'\u001b[0m\n\u001b[0m          ^\u001b[0m\n\u001b[0;31mSyntaxError\u001b[0m\u001b[0;31m:\u001b[0m unterminated string literal (detected at line 1)\n"
          ]
        }
      ]
    },
    {
      "cell_type": "code",
      "source": [
        "x = 5 / 0"
      ],
      "metadata": {
        "colab": {
          "base_uri": "https://localhost:8080/",
          "height": 141
        },
        "id": "eu8_ME4txd4t",
        "outputId": "f5fb9846-822a-4d31-8caf-abe72105a173"
      },
      "execution_count": 12,
      "outputs": [
        {
          "output_type": "error",
          "ename": "ZeroDivisionError",
          "evalue": "division by zero",
          "traceback": [
            "\u001b[0;31m---------------------------------------------------------------------------\u001b[0m",
            "\u001b[0;31mZeroDivisionError\u001b[0m                         Traceback (most recent call last)",
            "\u001b[0;32m<ipython-input-12-663c7a933a87>\u001b[0m in \u001b[0;36m<cell line: 0>\u001b[0;34m()\u001b[0m\n\u001b[0;32m----> 1\u001b[0;31m \u001b[0mx\u001b[0m \u001b[0;34m=\u001b[0m \u001b[0;36m5\u001b[0m \u001b[0;34m/\u001b[0m \u001b[0;36m0\u001b[0m\u001b[0;34m\u001b[0m\u001b[0;34m\u001b[0m\u001b[0m\n\u001b[0m",
            "\u001b[0;31mZeroDivisionError\u001b[0m: division by zero"
          ]
        }
      ]
    },
    {
      "cell_type": "code",
      "source": [
        "try:\n",
        "  sayi = int(input(\"Bir sayı gir!!\"))\n",
        "  print(sayi)\n",
        "except ValueError:\n",
        "  print(\"Hata: Girilen veri sayı değildir!!\")\n",
        "else:\n",
        "  print(\"Giriş işlemi başarılı\")\n",
        "finally:\n",
        "  print(\"Program sonlandırıldı.\")"
      ],
      "metadata": {
        "colab": {
          "base_uri": "https://localhost:8080/"
        },
        "id": "tgJy6g6qxgVO",
        "outputId": "9257e363-3fc0-43e7-c0f7-36d0cd03f64c"
      },
      "execution_count": 19,
      "outputs": [
        {
          "output_type": "stream",
          "name": "stdout",
          "text": [
            "Bir sayı gir!!a\n",
            "Hata: Girilen veri sayı değildir!!\n",
            "Program sonlandırıldı.\n"
          ]
        }
      ]
    },
    {
      "cell_type": "code",
      "source": [
        "try:\n",
        "  s = 5 / 0\n",
        "  degisken = int(s)\n",
        "except ZeroDivisionError:\n",
        "  print(\"Dönüşüm Hatası\")\n",
        "else:\n",
        "  print(\"işlem tamamlandı\", degisken)\n",
        "finally:\n",
        "  print(\"program bitti\")"
      ],
      "metadata": {
        "colab": {
          "base_uri": "https://localhost:8080/"
        },
        "id": "-L_WpqFyy1VN",
        "outputId": "0e049cc2-6390-4d2f-96f9-0397be3da4f7"
      },
      "execution_count": 44,
      "outputs": [
        {
          "output_type": "stream",
          "name": "stdout",
          "text": [
            "işlem tamamlandı 5\n",
            "program bitti\n"
          ]
        }
      ]
    },
    {
      "cell_type": "code",
      "source": [
        "while True:\n",
        "  girdi = input(\"Bir sayı gir(Çıkmak için 'q' bas)\")\n",
        "  if girdi.lower() == 'q':\n",
        "    print(\"Programdan Çıkılıyor\")\n",
        "    break\n",
        "  try:\n",
        "    sayi = float(girdi)\n",
        "  except ValueError:\n",
        "    print(\"Hata: Girilen veri sayı değildir!!\")\n",
        "    continue\n",
        "\n",
        "  if sayi == 0:\n",
        "    print(\"Sayı sıfırdır\")\n",
        "  elif sayi>0:\n",
        "    print(\"Sayı pozitif\")\n",
        "  else:\n",
        "    print(\"Sayı negatif\")\n",
        "\n",
        "  break"
      ],
      "metadata": {
        "colab": {
          "base_uri": "https://localhost:8080/"
        },
        "id": "GE6vpX7w0KQ8",
        "outputId": "8e7c8021-88bf-4896-ec3a-f927660640f4"
      },
      "execution_count": 66,
      "outputs": [
        {
          "output_type": "stream",
          "name": "stdout",
          "text": [
            "Bir sayı gir(Çıkmak için 'q' bas)a\n",
            "Hata: Girilen veri sayı değildir!!\n",
            "Bir sayı gir(Çıkmak için 'q' bas)b\n",
            "Hata: Girilen veri sayı değildir!!\n",
            "Bir sayı gir(Çıkmak için 'q' bas)12a\n",
            "Hata: Girilen veri sayı değildir!!\n",
            "Bir sayı gir(Çıkmak için 'q' bas)12\n",
            "Sayı pozitif\n"
          ]
        }
      ]
    }
  ]
}