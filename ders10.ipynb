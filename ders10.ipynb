{
  "nbformat": 4,
  "nbformat_minor": 0,
  "metadata": {
    "colab": {
      "provenance": []
    },
    "kernelspec": {
      "name": "python3",
      "display_name": "Python 3"
    },
    "language_info": {
      "name": "python"
    }
  },
  "cells": [
    {
      "cell_type": "code",
      "source": [
        "print(\"Merhaba, Python Veri Yapıları ve Algoritmalar / Ders 10\")"
      ],
      "metadata": {
        "colab": {
          "base_uri": "https://localhost:8080/"
        },
        "id": "Y2YkBb9n-WLQ",
        "outputId": "148a3eec-5538-4b75-da09-af6498e10be7"
      },
      "execution_count": null,
      "outputs": [
        {
          "output_type": "stream",
          "name": "stdout",
          "text": [
            "Merhaba, Python Veri Yapıları ve Algoritmalar / Ders 10\n"
          ]
        }
      ]
    },
    {
      "cell_type": "code",
      "source": [
        "import sys  # import python programlama dilinde yazılıma kütüphane eklemeye yarayan bir kod blogudur.\n",
        "print(sys.version)"
      ],
      "metadata": {
        "colab": {
          "base_uri": "https://localhost:8080/"
        },
        "id": "bbxPEHyT-YGS",
        "outputId": "130479c2-b60a-4160-d976-e6af31160f6a"
      },
      "execution_count": null,
      "outputs": [
        {
          "output_type": "stream",
          "name": "stdout",
          "text": [
            "3.11.12 (main, Apr  9 2025, 08:55:54) [GCC 11.4.0]\n"
          ]
        }
      ]
    },
    {
      "cell_type": "code",
      "source": [
        "from google.colab import drive # google colab - drive bağlantısı\n",
        "\n",
        "drive.mount('/content/drive')"
      ],
      "metadata": {
        "colab": {
          "base_uri": "https://localhost:8080/"
        },
        "id": "mTLvEZzs-YU3",
        "outputId": "1a30d3e9-34ee-443f-9f46-aef87ac05814"
      },
      "execution_count": null,
      "outputs": [
        {
          "output_type": "stream",
          "name": "stdout",
          "text": [
            "Mounted at /content/drive\n"
          ]
        }
      ]
    },
    {
      "cell_type": "code",
      "source": [
        "import os\n",
        "\n",
        "os.chdir('/content/drive/My Drive/ALGORITMALAR_MYO')\n",
        "\n",
        "!pwd # bize kodun çıktısını dosya yolu olarak veren kod blogudur."
      ],
      "metadata": {
        "colab": {
          "base_uri": "https://localhost:8080/"
        },
        "id": "AwUvvAr1-YkL",
        "outputId": "66e3fd71-18d7-4429-9936-d19a767dd4a6"
      },
      "execution_count": null,
      "outputs": [
        {
          "output_type": "stream",
          "name": "stdout",
          "text": [
            "/content/drive/My Drive/ALGORITMALAR_MYO\n"
          ]
        }
      ]
    },
    {
      "cell_type": "markdown",
      "source": [
        "Ders 10. Python Programlama Dili Üzerinde Fonksiyon Kullanımı ve Örnekleri\n",
        "Fonksiyonlar, belirli bir kod üzerinde ilgili görevi gerçekleştiren kod bloklarıdır.\n",
        "\n",
        "Kullanım amacı:\n",
        "\n",
        "Kodun okunabilirliğini artırmak.\n",
        "Kodun Tekrarını Azaltır\n",
        "Büyük projelerde iş yükünü azaltmak.\n",
        "Bir fonksiyon tanımlandığında, ona bir özel isim verilir ve gerektiğinde bu isimle çağrılarak çalıştırılır."
      ],
      "metadata": {
        "id": "Gmo8DfXd-lQH"
      }
    },
    {
      "cell_type": "code",
      "source": [
        "deger1 = 50\n",
        "\n",
        "def fonksiyon_adi(parametre):\n",
        "  #işlemlerimiz bu kısma yazılacak\n",
        "  sonuc = parametre*2 + 9 * 8\n",
        "  # sonuc = 50*2+72 = 172\n",
        "  return sonuc\n",
        "\n",
        "gelenveri = fonksiyon_adi(deger1)\n",
        "\n",
        "print(gelenveri)"
      ],
      "metadata": {
        "colab": {
          "base_uri": "https://localhost:8080/"
        },
        "id": "9M5WhjXI-l3x",
        "outputId": "4aa990f2-a04b-451c-d7db-644de4cada08"
      },
      "execution_count": null,
      "outputs": [
        {
          "output_type": "stream",
          "name": "stdout",
          "text": [
            "172\n"
          ]
        }
      ]
    },
    {
      "cell_type": "code",
      "source": [
        "deger1 = 10\n",
        "deger2 = 20\n",
        "deger3 = 30\n",
        "\n",
        "def fonksiyon2(s1, s2, s3):\n",
        "  sonuc = s1 * s2 / s3\n",
        "  # sonuc = 10 * 20 / 30 = 6.67\n",
        "  return sonuc\n",
        "\n",
        "gelenveri2 = fonksiyon2(deger1, deger2, deger3)\n",
        "\n",
        "#print(gelenveri)\n",
        "print(gelenveri2)"
      ],
      "metadata": {
        "colab": {
          "base_uri": "https://localhost:8080/"
        },
        "id": "b7J4fNog-oPI",
        "outputId": "cd247857-8796-4439-ccda-dd377c84ca68"
      },
      "execution_count": null,
      "outputs": [
        {
          "output_type": "stream",
          "name": "stdout",
          "text": [
            "6.666666666666667\n"
          ]
        }
      ]
    },
    {
      "cell_type": "markdown",
      "source": [
        "Fonksiyon Tanımlama Türleri\n",
        "1.Parametresiz ve Dönüş Değeri Olmayan Fonksiyon\n",
        "2.Parametre Alan ve Dönüş Değeri Olmayan Fonksiyon\n",
        "3.Parametre Alan ve Dönüş Değeri Döndüren Fonksiyon\n",
        "4.İç İçe Fonksiyonlar"
      ],
      "metadata": {
        "id": "35sJU8-Y-s2i"
      }
    },
    {
      "cell_type": "code",
      "source": [
        "\n",
        "# 1. Parametresiz ve Dönüş Değeri Olmayan Fonksiyon\n",
        "\n",
        "def selam_ver():\n",
        "  print(\"Merhaba! Python Programlama Diline Hoş Geldiniz\")\n",
        "\n",
        "selam_ver()"
      ],
      "metadata": {
        "colab": {
          "base_uri": "https://localhost:8080/"
        },
        "id": "vAQV9fGS-1Qo",
        "outputId": "a06012d2-7f8d-4aef-ccde-a0c19a2d4627"
      },
      "execution_count": null,
      "outputs": [
        {
          "output_type": "stream",
          "name": "stdout",
          "text": [
            "Merhaba! Python Programlama Diline Hoş Geldiniz\n"
          ]
        }
      ]
    },
    {
      "cell_type": "code",
      "source": [
        "# 2. Parametre Alan ve Dönüş Değeri Olmayan Fonksiyon\n",
        "\n",
        "def kare_hesaplama(sayi):\n",
        "  print(sayi, \"sayinın karesi: \", sayi ** 2)\n",
        "\n",
        "kare_hesaplama(3)"
      ],
      "metadata": {
        "colab": {
          "base_uri": "https://localhost:8080/"
        },
        "id": "bibEqjXv-4P7",
        "outputId": "0f86cae9-fec1-46df-8263-e44178d6766c"
      },
      "execution_count": null,
      "outputs": [
        {
          "output_type": "stream",
          "name": "stdout",
          "text": [
            "3 sayinın karesi:  9\n"
          ]
        }
      ]
    },
    {
      "cell_type": "code",
      "source": [
        "# 2. Parametre Alan ve Dönüş Değeri Olmayan Fonksiyon - örnek 2\n",
        "\n",
        "def kare_hesaplama(sayi):\n",
        "  print(sayi, \"sayinın karesi: \", sayi ** 2)\n",
        "\n",
        "gelen_deger = int(input(\"Bir sayı giriniz:\"))\n",
        "\n",
        "kare_hesaplama(gelen_deger)"
      ],
      "metadata": {
        "colab": {
          "base_uri": "https://localhost:8080/"
        },
        "id": "nHYpYGVz-50n",
        "outputId": "9596251b-8060-47e2-efe2-f8b3e460272d"
      },
      "execution_count": null,
      "outputs": [
        {
          "output_type": "stream",
          "name": "stdout",
          "text": [
            "Bir sayı giriniz:2\n",
            "2 sayinın karesi:  4\n"
          ]
        }
      ]
    },
    {
      "cell_type": "code",
      "source": [
        "# 3. Parametre Alan ve Dönüş Değeri Döndüren Fonksiyon\n",
        "\n",
        "def alan_hesaplama(kenar1, kenar2):\n",
        "  return kenar1 * kenar2\n",
        "\n",
        "dikdortgen_alan = alan_hesaplama(5, 10)\n",
        "\n",
        "print(\"Dikdörtgenin Alanı:\", dikdortgen_alan)"
      ],
      "metadata": {
        "colab": {
          "base_uri": "https://localhost:8080/"
        },
        "id": "dp7xZLZT_CRg",
        "outputId": "12b60a22-d4fd-4729-84b4-5f29e3a1d86f"
      },
      "execution_count": null,
      "outputs": [
        {
          "output_type": "stream",
          "name": "stdout",
          "text": [
            "Dikdörtgenin Alanı: 50\n"
          ]
        }
      ]
    },
    {
      "cell_type": "code",
      "source": [
        "# 4. İç İçe Fonksiyonlar\n",
        "\n",
        "def buyuk_harf_yazdir(metin):\n",
        "  def buyuk_harf_cevir(metin):\n",
        "    return metin.upper()\n",
        "  print(\"Buyuk harfli metin bilgisi: \", buyuk_harf_cevir(metin))\n",
        "\n",
        "buyuk_harf_yazdir(\"python\")"
      ],
      "metadata": {
        "colab": {
          "base_uri": "https://localhost:8080/"
        },
        "id": "W-uBEzq-_On0",
        "outputId": "c3bcb8ba-bd25-48ad-ef0b-796ce0e5b367"
      },
      "execution_count": null,
      "outputs": [
        {
          "output_type": "stream",
          "name": "stdout",
          "text": [
            "Buyuk harfli metin bilgisi:  PYTHON\n"
          ]
        }
      ]
    },
    {
      "cell_type": "markdown",
      "source": [
        "Fonksiyon Örnekleri:"
      ],
      "metadata": {
        "id": "bw-1vorB_RY_"
      }
    },
    {
      "cell_type": "code",
      "source": [
        "# Matematiksel Toplama İşlemi\n",
        "\n",
        "def toplam(a, b):\n",
        "  return a + b\n",
        "\n",
        "sonuc = toplam(5, 3)\n",
        "\n",
        "print(\"Toplamın Sonucu: \", sonuc)"
      ],
      "metadata": {
        "colab": {
          "base_uri": "https://localhost:8080/"
        },
        "id": "JqZo5Exl_Ssb",
        "outputId": "f9ccb1ef-c887-4c12-85c2-aaf33e29b586"
      },
      "execution_count": null,
      "outputs": [
        {
          "output_type": "stream",
          "name": "stdout",
          "text": [
            "Toplamın Sonucu:  8\n"
          ]
        }
      ]
    },
    {
      "cell_type": "code",
      "source": [
        "# listenin elemanlarında toplam işlemi ve listenin ortalamasını bulma\n",
        "\n",
        "sayilar = [1, 2, 3, 4, 5, 6]\n",
        "\n",
        "def liste_toplam(liste):\n",
        "  toplam = 0\n",
        "  for eleman in liste:\n",
        "    toplam = toplam + eleman # --> toplam += elaman\n",
        "  return toplam\n",
        "\n",
        "Toplam_sonuc = liste_toplam(sayilar)\n",
        "\n",
        "ortalama_sonuc = Toplam_sonuc / len(sayilar)\n",
        "\n",
        "print(\"Sonuc: \", Toplam_sonuc)\n",
        "print(\"Ortalama Sonuc: \", ortalama_sonuc)"
      ],
      "metadata": {
        "colab": {
          "base_uri": "https://localhost:8080/"
        },
        "id": "x5ztxluz_V3u",
        "outputId": "7332f8de-7ac5-4d8a-cea4-ff73b5a2f815"
      },
      "execution_count": null,
      "outputs": [
        {
          "output_type": "stream",
          "name": "stdout",
          "text": [
            "Sonuc:  21\n",
            "Ortalama Sonuc:  3.5\n"
          ]
        }
      ]
    },
    {
      "cell_type": "code",
      "source": [
        "# Sayıların Faktöriyelini hesaplama\n",
        "def faktoriyel(veri):\n",
        "  if veri == 0 or veri == 1:\n",
        "    return 1\n",
        "  return veri * faktoriyel(veri - 1)\n",
        "\n",
        "kullanici_bilgisi = int(input(\"Faktöriyel Hesabında Kullanılacak Sayıyı Giriniz !!\"))\n",
        "\n",
        "sonuc = faktoriyel(kullanici_bilgisi)\n",
        "\n",
        "print(sonuc)"
      ],
      "metadata": {
        "colab": {
          "base_uri": "https://localhost:8080/"
        },
        "id": "eYKQOFor_ZYn",
        "outputId": "7f0cc733-88a2-4926-a899-0b7bef125678"
      },
      "execution_count": null,
      "outputs": [
        {
          "output_type": "stream",
          "name": "stdout",
          "text": [
            "Faktöriyel Hesabında Kullanılacak Sayıyı Giriniz !!5\n",
            "120\n"
          ]
        }
      ]
    },
    {
      "cell_type": "markdown",
      "source": [
        "Örnek - 8 -> Python programlama dili üzerinde fonksiyonlara kullanılarak kullanıcından alınan iki sayı değişkeninin ebob ve ekok değerlerini bulma.\n",
        "\n",
        "EBOB - En Büyük Ortak Bölen : İki veya daha fazla sayının bölenleri arasında en büyük olanıdır.\n",
        "\n",
        "EKOK - En Küçük Ortak Kat : İki veya daha fazla sayının katları arasında en küçük olanıdır.\n",
        "\n",
        "Örneğin, 18 ve 24 sayılarının EBOB ve EKOK -->\n",
        "\n",
        "18'in bölenleri: 1, 2, 3, 6, 9, 18\n",
        "\n",
        "24'ün bölenleri: 1, 2, 3, 4, 6, 8, 12, 24\n",
        "\n",
        "Ortak bölenler: 1, 2, 3, 6\n",
        "\n",
        "EBOB (En büyük ortak bölen) --> 6\n",
        "\n",
        "EKOK (En Küçük Ortak Kat):\n",
        "\n",
        "18'in katları: 18, 36, 54, 72, 90, ....\n",
        "\n",
        "24'ün katları: 24, 48, 72, 96, ....\n",
        "\n",
        "Ortak katlar: 72, 144, ...\n",
        "\n",
        "En küçük ortak kat: 72 (EKOK)\n",
        "\n",
        "18 ve 24 sayılarının EBOB'u 6, EKOK'u ise 72'dir."
      ],
      "metadata": {
        "id": "_c4d8dcx_imi"
      }
    },
    {
      "cell_type": "code",
      "source": [
        "def ebob(s1, s2):\n",
        "  while s2 != 0:\n",
        "    ilk_deger = s1\n",
        "    s1 = s2\n",
        "    s2 = ilk_deger % s2\n",
        "  return s1\n",
        "\n",
        "def ekok(s3, s4):\n",
        "  ebob_degeri = ebob(s3, s4)\n",
        "  carpim = s3 * s4\n",
        "  ekok_sonuc = carpim // ebob_degeri\n",
        "  return ekok_sonuc\n",
        "\n",
        "try:\n",
        "  birinci_sayi = int(input(\"ilk Sayıyı Giriniz\"))\n",
        "  ikinci_sayi = int(input(\"ikinci Sayıyı Giriniz\"))\n",
        "\n",
        "  if birinci_sayi <= 0 or ikinci_sayi <= 0:\n",
        "    print(\"Pozitif Sayını Giriniz\")\n",
        "  else:\n",
        "    # ebob ve ekok hesabına giriyoruz\n",
        "    ebob_sonuc = ebob(birinci_sayi, ikinci_sayi)\n",
        "    ekok_sonuc = ekok(birinci_sayi, ikinci_sayi)\n",
        "    print(\"Ebob sonuc:\", ebob_sonuc)\n",
        "    print(\"Ekok sonuc:\", ekok_sonuc)\n",
        "\n",
        "except ValueError:\n",
        "  print(\"Hatalı Değer Girişi Yapıldı, Lütfen Sayı Giriniz\")"
      ],
      "metadata": {
        "colab": {
          "base_uri": "https://localhost:8080/"
        },
        "id": "aUkdjwSE_kfA",
        "outputId": "db0f6846-f535-4bdf-f853-4e53dc1f0216"
      },
      "execution_count": null,
      "outputs": [
        {
          "output_type": "stream",
          "name": "stdout",
          "text": [
            "ilk Sayıyı Giriniz18\n",
            "ikinci Sayıyı Giriniz24\n",
            "Ebob sonuc: 6\n",
            "Ekok sonuc: 72\n"
          ]
        }
      ]
    },
    {
      "cell_type": "code",
      "source": [
        "# bir sayının asal sayı olup olmama durumunu kontrol etme algoritmasını oluşturacağız.\n",
        "\n",
        "def asalsayi(s1):\n",
        "  if s1 < 2:\n",
        "    return False # 2'den küçük sayılar asal değildir.\n",
        "\n",
        "  for i in range(2, int(s1 ** 0.5) + 1):\n",
        "    if s1 % i == 0:\n",
        "      return False\n",
        "\n",
        "  return True\n",
        "\n",
        "try:\n",
        "  sayi = int(input(\"Bir Sayı Gir\"))\n",
        "\n",
        "  if sayi < 0:\n",
        "    print(\"Negatif sayı girilmemelidir.\")\n",
        "  else:\n",
        "    sonuc = asalsayi(sayi)\n",
        "\n",
        "    if sonuc == True:\n",
        "      print(\"Girdiğiniz sayı asaldır.\")\n",
        "    else:\n",
        "      print(\"Girdiğiniz sayı asal değildir.\")\n",
        "\n",
        "except ValueError:\n",
        "  print(\"Hatalı Değer Girişi Yapıldı, Lütfen Sayı Giriniz\")"
      ],
      "metadata": {
        "colab": {
          "base_uri": "https://localhost:8080/"
        },
        "id": "EBWR9prk_wzq",
        "outputId": "ba5784b9-442e-4629-9dd9-3e2238a2a93b"
      },
      "execution_count": null,
      "outputs": [
        {
          "output_type": "stream",
          "name": "stdout",
          "text": [
            "Bir Sayı Gir7\n",
            "Girdiğiniz sayı asaldır.\n"
          ]
        }
      ]
    }
  ]
}