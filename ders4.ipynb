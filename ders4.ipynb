{
  "nbformat": 4,
  "nbformat_minor": 0,
  "metadata": {
    "colab": {
      "provenance": []
    },
    "kernelspec": {
      "name": "python3",
      "display_name": "Python 3"
    },
    "language_info": {
      "name": "python"
    }
  },
  "cells": [
    {
      "cell_type": "code",
      "source": [
        "print(\"Merhaba, Python Veri Yapıları ve Algoritmalar / Ders 4\")"
      ],
      "metadata": {
        "colab": {
          "base_uri": "https://localhost:8080/"
        },
        "id": "BH4D195Y7zYT",
        "outputId": "637551d1-1e5f-4667-9edb-de8829a01c1b"
      },
      "execution_count": 1,
      "outputs": [
        {
          "output_type": "stream",
          "name": "stdout",
          "text": [
            "Merhaba, Python Veri Yapıları ve Algoritmalar / Ders 4\n"
          ]
        }
      ]
    },
    {
      "cell_type": "code",
      "execution_count": 2,
      "metadata": {
        "id": "d5gUfgJF7efX",
        "colab": {
          "base_uri": "https://localhost:8080/"
        },
        "outputId": "317cb27d-64c2-4737-9b83-b398491b50ff"
      },
      "outputs": [
        {
          "output_type": "stream",
          "name": "stdout",
          "text": [
            "3.11.12 (main, Apr  9 2025, 08:55:54) [GCC 11.4.0]\n"
          ]
        }
      ],
      "source": [
        "import sys  # import python programlama dilinde yazılıma kütüphane eklemeye yarayan bir kod blogudur.\n",
        "print(sys.version)"
      ]
    },
    {
      "cell_type": "code",
      "source": [
        "\n",
        "from google.colab import drive # google colab - drive bağlantısı\n",
        "\n",
        "drive.mount('/content/drive')\n",
        ""
      ],
      "metadata": {
        "colab": {
          "base_uri": "https://localhost:8080/"
        },
        "id": "qxDXPy3672IA",
        "outputId": "e893736b-0301-4390-9f08-727e773ee142"
      },
      "execution_count": 3,
      "outputs": [
        {
          "output_type": "stream",
          "name": "stdout",
          "text": [
            "Mounted at /content/drive\n"
          ]
        }
      ]
    },
    {
      "cell_type": "code",
      "source": [
        "import os\n",
        "\n",
        "os.chdir('/content/drive/My Drive/ALGORITMALAR_MYO')\n",
        "\n",
        "!pwd # bize kodun çıktısını dosya yolu olarak veren kod blogudur."
      ],
      "metadata": {
        "colab": {
          "base_uri": "https://localhost:8080/"
        },
        "id": "dprZth-g72KT",
        "outputId": "c93209be-68f5-4292-e54c-889af9d99902"
      },
      "execution_count": 7,
      "outputs": [
        {
          "output_type": "stream",
          "name": "stdout",
          "text": [
            "/content/drive/My Drive/ALGORITMALAR_MYO\n"
          ]
        }
      ]
    },
    {
      "cell_type": "code",
      "source": [
        "Ders_no = 4 # Int - tam sayı degiskeni tanımlanmıştır\n",
        "pi_sayisi = 3.14 # Float - kesirli sayı türü\n",
        "Dersin_ismi = \"Python - Veri Yapıları ve Algoritmalar\" # String - Metinsel bilgi türü\n",
        "durum1 = True # Bool degisken veri türü\n",
        "durum2 = False # Bool degisken  veri türü\n",
        "\n",
        "print(Ders_no)\n",
        "print(pi_sayisi)\n",
        "print(Dersin_ismi)\n",
        "print(durum1)\n",
        "print(durum2)"
      ],
      "metadata": {
        "colab": {
          "base_uri": "https://localhost:8080/"
        },
        "id": "IfWZ49Dn72Mc",
        "outputId": "a4939622-78ce-49f9-cc09-4488f7c409dc"
      },
      "execution_count": 8,
      "outputs": [
        {
          "output_type": "stream",
          "name": "stdout",
          "text": [
            "4\n",
            "3.14\n",
            "Python - Veri Yapıları ve Algoritmalar\n",
            "True\n",
            "False\n"
          ]
        }
      ]
    },
    {
      "cell_type": "code",
      "source": [
        "print(\"1. Değişkenin Değeri: \", Ders_no, \"- 1. Değişkenin Türü: \", type(Ders_no))\n",
        "print(\"2. Değişkenin Değeri: \", pi_sayisi, \"- 2. Değişkenin Türü: \", type(pi_sayisi))\n",
        "print(\"3. Değişkenin Değeri: \", Dersin_ismi, \"- 3. Değişkenin Türü: \", type(Dersin_ismi))\n",
        "print(\"4. Değişkenin Değeri: \", durum1, \"- 4. Değişkenin Türü: \", type(durum1))\n",
        "print(\"5. Değişkenin Değeri: \", durum2, \"- 5. Değişkenin Türü: \", type(durum2))"
      ],
      "metadata": {
        "colab": {
          "base_uri": "https://localhost:8080/"
        },
        "id": "y8-i9E1z72T1",
        "outputId": "3175cfa5-be10-4cf5-d125-da894e4fe492"
      },
      "execution_count": 9,
      "outputs": [
        {
          "output_type": "stream",
          "name": "stdout",
          "text": [
            "1. Değişkenin Değeri:  4 - 1. Değişkenin Türü:  <class 'int'>\n",
            "2. Değişkenin Değeri:  3.14 - 2. Değişkenin Türü:  <class 'float'>\n",
            "3. Değişkenin Değeri:  Python - Veri Yapıları ve Algoritmalar - 3. Değişkenin Türü:  <class 'str'>\n",
            "4. Değişkenin Değeri:  True - 4. Değişkenin Türü:  <class 'bool'>\n",
            "5. Değişkenin Değeri:  False - 5. Değişkenin Türü:  <class 'bool'>\n"
          ]
        }
      ]
    },
    {
      "cell_type": "code",
      "source": [
        "a = 7\n",
        "b = 3\n",
        "\n",
        "print(\"Toplama:\", a+b)\n",
        "print(\"Üs Alma: \", a**b)\n",
        "print(\"Mod Alma:\", a%b)\n",
        "print(\"a == b:\", a == b)\n",
        "print(\"a > b:\", a > b)"
      ],
      "metadata": {
        "colab": {
          "base_uri": "https://localhost:8080/"
        },
        "id": "xYODDPv_8For",
        "outputId": "0054e853-7f59-4194-cd05-1ad8d1f19bbd"
      },
      "execution_count": 10,
      "outputs": [
        {
          "output_type": "stream",
          "name": "stdout",
          "text": [
            "Toplama: 10\n",
            "Üs Alma:  343\n",
            "Mod Alma: 1\n",
            "a == b: False\n",
            "a > b: True\n"
          ]
        }
      ]
    },
    {
      "cell_type": "code",
      "source": [
        "a = True # True - Doğru - 1\n",
        "b = False # False - Yanlış - 0\n",
        "\n",
        "print(\"a ve_kapısı b:\", a and b)\n",
        "print(\"a veya_kapısı b:\", a or b)\n",
        "print(\"a degiskenin tersliyoruz:\", not a)"
      ],
      "metadata": {
        "colab": {
          "base_uri": "https://localhost:8080/"
        },
        "id": "ekAXEJHA8Fqh",
        "outputId": "56bc2a7b-22e8-489a-b598-1362d142c122"
      },
      "execution_count": 11,
      "outputs": [
        {
          "output_type": "stream",
          "name": "stdout",
          "text": [
            "a ve_kapısı b: False\n",
            "a veya_kapısı b: True\n",
            "a degiskenin tersliyoruz: False\n"
          ]
        }
      ]
    },
    {
      "cell_type": "code",
      "source": [
        "\n",
        "x = 7\n",
        "y = 4\n",
        "\n",
        "x += 3 # x = x + 3\n",
        "y -= 3 # y = y - 3\n",
        "\n",
        "print(x)\n",
        "print(y)"
      ],
      "metadata": {
        "colab": {
          "base_uri": "https://localhost:8080/"
        },
        "id": "how64JG78Fsc",
        "outputId": "8b61a294-2079-48dc-a7f4-dbf55b982c96"
      },
      "execution_count": 12,
      "outputs": [
        {
          "output_type": "stream",
          "name": "stdout",
          "text": [
            "10\n",
            "1\n"
          ]
        }
      ]
    },
    {
      "cell_type": "code",
      "source": [
        "a = 7\n",
        "b = 3\n",
        "\n",
        "print(a & b)\n",
        "print(a | b)\n",
        "print(a ^ b)\n",
        ""
      ],
      "metadata": {
        "colab": {
          "base_uri": "https://localhost:8080/"
        },
        "id": "1dqwXYnV8FuW",
        "outputId": "5a61556c-8d5a-405a-a626-67654e01e6e1"
      },
      "execution_count": 13,
      "outputs": [
        {
          "output_type": "stream",
          "name": "stdout",
          "text": [
            "3\n",
            "7\n",
            "4\n"
          ]
        }
      ]
    }
  ]
}